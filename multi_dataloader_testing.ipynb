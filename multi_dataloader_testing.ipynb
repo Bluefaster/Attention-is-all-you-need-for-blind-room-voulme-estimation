{
 "cells": [
  {
   "cell_type": "code",
   "execution_count": 1,
   "id": "1ba3ec94-333d-46f0-b86e-1c1f68814876",
   "metadata": {},
   "outputs": [
    {
     "name": "stdout",
     "output_type": "stream",
     "text": [
      "Using device: cuda\n",
      "Using device: cuda\n",
      "\n"
     ]
    }
   ],
   "source": [
    "import numpy as np\n",
    "import pandas as pd\n",
    "import os\n",
    "from volume_estimation import modeling, evaluation"
   ]
  },
  {
   "cell_type": "code",
   "execution_count": 2,
   "id": "abff3e89-09d4-4f30-a82f-6473132110af",
   "metadata": {},
   "outputs": [],
   "source": [
    "FEATURES_DIR = '/home/cxw/sonos_rirs/features/'\n",
    "#adjust these variables for your own file system\n",
    "\n",
    "feature_set = '081522_20k/081522_20k_prop1'\n",
    "\n",
    "targets = ['vol']#, 'rt60']\n",
    "\n",
    "data_path = os.path.join(FEATURES_DIR, feature_set, 'feature_df.csv')\n",
    "feat_df = pd.read_csv(data_path)\n",
    "log = True\n",
    "normalize_targets = True"
   ]
  },
  {
   "cell_type": "code",
   "execution_count": 3,
   "id": "035a8305-69f1-4ab6-862f-f040245b44d5",
   "metadata": {},
   "outputs": [
    {
     "name": "stdout",
     "output_type": "stream",
     "text": [
      "1.0\n",
      "0.3358801377148796\n"
     ]
    }
   ],
   "source": [
    "if log:\n",
    "    for target in targets:\n",
    "        feat_df[target] = np.log(feat_df[target])\n",
    "\n",
    "if normalize_targets:\n",
    "    for target in targets:\n",
    "        feat_df[target] = feat_df[target]/feat_df[target].max()\n",
    "        \n",
    "for target in targets:\n",
    "    print(feat_df[target].max())\n",
    "    print(feat_df[target].min())"
   ]
  },
  {
   "cell_type": "code",
   "execution_count": 4,
   "id": "a12aaa96-1a5a-4c74-a08f-8decf04c737b",
   "metadata": {},
   "outputs": [],
   "source": [
    "smol_df = feat_df.sample(100)\n",
    "dataloader = modeling.create_dataloader(smol_df, targets=targets, batch_size=10)"
   ]
  },
  {
   "cell_type": "code",
   "execution_count": 5,
   "id": "13c8f075-67de-4c88-a2a0-8f119ae0a3c6",
   "metadata": {},
   "outputs": [
    {
     "data": {
      "text/plain": [
       "0.9062500000316354"
      ]
     },
     "execution_count": 5,
     "metadata": {},
     "output_type": "execute_result"
    }
   ],
   "source": [
    "smol_df['vol'].max()"
   ]
  },
  {
   "cell_type": "code",
   "execution_count": 6,
   "id": "43f27f4d-39df-44b8-933f-c00b07ab640f",
   "metadata": {},
   "outputs": [
    {
     "name": "stdout",
     "output_type": "stream",
     "text": [
      "Feature batch shape: torch.Size([10, 1, 44, 1997])\n",
      "Labels batch shape: torch.Size([10, 1])\n",
      "tensor([[0.8029],\n",
      "        [0.6844],\n",
      "        [0.6542],\n",
      "        [0.8500],\n",
      "        [0.3359],\n",
      "        [0.7500],\n",
      "        [0.8029],\n",
      "        [0.7813],\n",
      "        [0.3359],\n",
      "        [0.6245]])\n"
     ]
    }
   ],
   "source": [
    "features, labels = next(iter(dataloader))\n",
    "print(f\"Feature batch shape: {features.size()}\")\n",
    "print(f\"Labels batch shape: {labels.size()}\")\n",
    "\n",
    "input_height = features.size()[2]\n",
    "input_width = features.size()[3]\n",
    "\n",
    "print(labels)"
   ]
  },
  {
   "cell_type": "code",
   "execution_count": 7,
   "id": "a10a568a-8cbf-4038-808e-1ae20c78aa92",
   "metadata": {},
   "outputs": [],
   "source": [
    "n_out = len(targets)\n",
    "multi_model = modeling.Baseline_Model((input_height, input_width), n_out=n_out)"
   ]
  },
  {
   "cell_type": "code",
   "execution_count": 8,
   "id": "55aa1140-ff7b-4260-9d1e-7dd52b25c238",
   "metadata": {},
   "outputs": [
    {
     "name": "stdout",
     "output_type": "stream",
     "text": [
      "torch.Size([10, 1])\n"
     ]
    }
   ],
   "source": [
    "pred = multi_model(features)\n",
    "print(pred.size())\n"
   ]
  },
  {
   "cell_type": "code",
   "execution_count": 9,
   "id": "d199ea37-04c9-4aa3-8d84-5963405df25f",
   "metadata": {},
   "outputs": [
    {
     "name": "stdout",
     "output_type": "stream",
     "text": [
      "Using device: cuda\n"
     ]
    }
   ],
   "source": [
    "import torch\n",
    "\n",
    "from torch.nn import Conv2d, AvgPool2d, ReLU, Dropout, Flatten, Linear, Sequential, Module, MSELoss\n",
    "\n",
    "device = torch.device('cuda' if torch.cuda.is_available() else 'cpu')\n",
    "print('Using device:', device)\n",
    "\n",
    "#metrics functions\n",
    "def MSE(output, target, is_loss=False):\n",
    "    loss = torch.mean((output - target)**2, 0, keepdim=True)\n",
    "    if is_loss:\n",
    "        loss = torch.sum(loss, dim=1, keepdim=False)\n",
    "    return loss\n",
    "\n",
    "def Bias(output, target):\n",
    "    loss = torch.mean(output - target, 0, keepdim=True)\n",
    "    return loss\n",
    "\n",
    "def CovStep(output, target, output_mean, target_mean):\n",
    "    loss = torch.mean(((output - output_mean) * (target - target_mean)), 0, keepdim=True)\n",
    "    return loss\n",
    "\n",
    "def MeanAbsLogStep(output, target, log=True):\n",
    "    #convert out of log\n",
    "    if log:\n",
    "        vol_pred = 10**output\n",
    "        vol_target = 10**target\n",
    "    else:\n",
    "        vol_pred = output\n",
    "        vol_target = target\n",
    "    loss = torch.mean(torch.abs(torch.log(torch.abs(vol_pred/vol_target))), 0, keepdim=True)\n",
    "    return loss\n",
    "\n",
    "def torch_to_numpy(tensor):\n",
    "    return tensor.detach().cpu().numpy().flatten()\n",
    "\n",
    "def compute_eval_metrics(dataloader, model, log=True, verbose=False):\n",
    "    target_sum = 0\n",
    "    pred_sum = 0\n",
    "    n_steps = 0\n",
    "    if verbose:\n",
    "        print(\"Computing sums...\")\n",
    "        dataloader_iter = tqdm(dataloader)\n",
    "    else:\n",
    "        dataloader_iter = dataloader\n",
    "    for (x,y) in dataloader_iter:        \n",
    "        (x, y) = (x.to(device), y.to(device))\n",
    "        pred = model(x)\n",
    "        target_sum += y.cpu().numpy()\n",
    "        pred_sum += pred.detach().cpu().numpy()\n",
    "        n_steps += 1\n",
    "        del x, y\n",
    "    \n",
    "    torch.cuda.empty_cache()\n",
    "    \n",
    "    target_mean = torch.tensor(target_sum/n_steps).to(device)\n",
    "    pred_mean = torch.tensor(pred_sum/n_steps).to(device)\n",
    "        \n",
    "    mse = 0\n",
    "    mean_error = 0\n",
    "    cov = 0\n",
    "    abs_log_ratio = 0\n",
    "    \n",
    "    var_pred = 0 #technically var * N but gets cancelled out in Pearson calculation\n",
    "    var_target = 0 \n",
    "    \n",
    "    if verbose:\n",
    "        print(\"Computing metrics...\")\n",
    "        dataloader_iter = tqdm(dataloader)\n",
    "    else:\n",
    "        dataloader_iter = dataloader\n",
    "    for (x,y) in dataloader_iter:          \n",
    "        (x, y) = (x.to(device), y.to(device))\n",
    "        pred = model(x)\n",
    "        \n",
    "        mse += MSE(pred, y)\n",
    "        mean_error += Bias(pred, y)\n",
    "        cov += CovStep(pred, y, pred_mean, target_mean)\n",
    "        abs_log_ratio += MeanAbsLogStep(pred, y, log=log)\n",
    "        \n",
    "        var_pred += MSE(pred, pred_mean)\n",
    "        var_target += MSE(y, target_mean)\n",
    "                    \n",
    "                            \n",
    "        del x, y\n",
    "        \n",
    "    out_dict = {}\n",
    "    out_dict['mse'] = torch_to_numpy(mse / n_steps)\n",
    "    out_dict['bias'] = torch_to_numpy(mean_error / n_steps)\n",
    "    out_dict['pearson_cor'] = torch_to_numpy(cov/(torch.sqrt(var_pred) * torch.sqrt(var_target)))\n",
    "    out_dict['mean_mult'] = torch_to_numpy(torch.exp(abs_log_ratio/n_steps))\n",
    "    out_dict['var_ratio'] = torch_to_numpy(torch.sqrt(var_pred) / torch.sqrt(var_target))\n",
    "    \n",
    "    return out_dict"
   ]
  },
  {
   "cell_type": "code",
   "execution_count": 10,
   "id": "65069d8e-2f8c-4d76-b1ba-bc4ba132d65e",
   "metadata": {
    "tags": []
   },
   "outputs": [
    {
     "data": {
      "text/plain": [
       "{'mse': array([0.43778775]),\n",
       " 'bias': array([-0.64536042]),\n",
       " 'pearson_cor': array([-0.01991181]),\n",
       " 'mean_mult': array([4.4193706]),\n",
       " 'var_ratio': array([0.01114298])}"
      ]
     },
     "execution_count": 10,
     "metadata": {},
     "output_type": "execute_result"
    }
   ],
   "source": [
    "multi_model.to(device)\n",
    "compute_eval_metrics(dataloader, multi_model, log=log)"
   ]
  },
  {
   "cell_type": "code",
   "execution_count": 11,
   "id": "88d63ea3-42c1-44d1-9b95-94ef53fed2e1",
   "metadata": {},
   "outputs": [],
   "source": [
    "_, model_spec, model_state = evaluation.get_model_hist_spec_state('prop5_vol_092322', '092322_vol_redo_20k')\n",
    "feature_df = pd.read_csv(model_spec['data_path'])\n",
    "log = True\n",
    "targets = ['vol']\n",
    "test_dataloader = modeling.create_dataloader(feature_df[feature_df['split']=='test'],  targets=targets)"
   ]
  },
  {
   "cell_type": "code",
   "execution_count": 12,
   "id": "1eb1873d-2e85-4e28-b17b-2c909554ab56",
   "metadata": {},
   "outputs": [
    {
     "ename": "RuntimeError",
     "evalue": "CUDA out of memory. Tried to allocate 2.00 MiB (GPU 0; 23.64 GiB total capacity; 20.80 GiB already allocated; 3.56 MiB free; 21.78 GiB reserved in total by PyTorch) If reserved memory is >> allocated memory try setting max_split_size_mb to avoid fragmentation.  See documentation for Memory Management and PYTORCH_CUDA_ALLOC_CONF",
     "output_type": "error",
     "traceback": [
      "\u001b[0;31m---------------------------------------------------------------------------\u001b[0m",
      "\u001b[0;31mRuntimeError\u001b[0m                              Traceback (most recent call last)",
      "Input \u001b[0;32mIn [12]\u001b[0m, in \u001b[0;36m<cell line: 7>\u001b[0;34m()\u001b[0m\n\u001b[1;32m      5\u001b[0m model \u001b[38;5;241m=\u001b[39m modeling\u001b[38;5;241m.\u001b[39mBaseline_Model((input_height, input_width))\u001b[38;5;241m.\u001b[39mto(device)\n\u001b[1;32m      6\u001b[0m model\u001b[38;5;241m.\u001b[39mload_state_dict(torch\u001b[38;5;241m.\u001b[39mload(model_state, map_location\u001b[38;5;241m=\u001b[39mdevice))\n\u001b[0;32m----> 7\u001b[0m test_metrics \u001b[38;5;241m=\u001b[39m \u001b[43mcompute_eval_metrics\u001b[49m\u001b[43m(\u001b[49m\u001b[43mtest_dataloader\u001b[49m\u001b[43m,\u001b[49m\u001b[43m \u001b[49m\u001b[43mmodel\u001b[49m\u001b[43m,\u001b[49m\u001b[43m \u001b[49m\u001b[43mlog\u001b[49m\u001b[38;5;241;43m=\u001b[39;49m\u001b[43mlog\u001b[49m\u001b[43m)\u001b[49m\n",
      "Input \u001b[0;32mIn [9]\u001b[0m, in \u001b[0;36mcompute_eval_metrics\u001b[0;34m(dataloader, model, log, verbose)\u001b[0m\n\u001b[1;32m     72\u001b[0m \u001b[38;5;28;01mfor\u001b[39;00m (x,y) \u001b[38;5;129;01min\u001b[39;00m dataloader_iter:          \n\u001b[1;32m     73\u001b[0m     (x, y) \u001b[38;5;241m=\u001b[39m (x\u001b[38;5;241m.\u001b[39mto(device), y\u001b[38;5;241m.\u001b[39mto(device))\n\u001b[0;32m---> 74\u001b[0m     pred \u001b[38;5;241m=\u001b[39m \u001b[43mmodel\u001b[49m\u001b[43m(\u001b[49m\u001b[43mx\u001b[49m\u001b[43m)\u001b[49m\n\u001b[1;32m     76\u001b[0m     mse \u001b[38;5;241m+\u001b[39m\u001b[38;5;241m=\u001b[39m MSE(pred, y)\n\u001b[1;32m     77\u001b[0m     mean_error \u001b[38;5;241m+\u001b[39m\u001b[38;5;241m=\u001b[39m Bias(pred, y)\n",
      "File \u001b[0;32m~/anaconda3/envs/s3d_env/lib/python3.8/site-packages/torch/nn/modules/module.py:1130\u001b[0m, in \u001b[0;36mModule._call_impl\u001b[0;34m(self, *input, **kwargs)\u001b[0m\n\u001b[1;32m   1126\u001b[0m \u001b[38;5;66;03m# If we don't have any hooks, we want to skip the rest of the logic in\u001b[39;00m\n\u001b[1;32m   1127\u001b[0m \u001b[38;5;66;03m# this function, and just call forward.\u001b[39;00m\n\u001b[1;32m   1128\u001b[0m \u001b[38;5;28;01mif\u001b[39;00m \u001b[38;5;129;01mnot\u001b[39;00m (\u001b[38;5;28mself\u001b[39m\u001b[38;5;241m.\u001b[39m_backward_hooks \u001b[38;5;129;01mor\u001b[39;00m \u001b[38;5;28mself\u001b[39m\u001b[38;5;241m.\u001b[39m_forward_hooks \u001b[38;5;129;01mor\u001b[39;00m \u001b[38;5;28mself\u001b[39m\u001b[38;5;241m.\u001b[39m_forward_pre_hooks \u001b[38;5;129;01mor\u001b[39;00m _global_backward_hooks\n\u001b[1;32m   1129\u001b[0m         \u001b[38;5;129;01mor\u001b[39;00m _global_forward_hooks \u001b[38;5;129;01mor\u001b[39;00m _global_forward_pre_hooks):\n\u001b[0;32m-> 1130\u001b[0m     \u001b[38;5;28;01mreturn\u001b[39;00m \u001b[43mforward_call\u001b[49m\u001b[43m(\u001b[49m\u001b[38;5;241;43m*\u001b[39;49m\u001b[38;5;28;43minput\u001b[39;49m\u001b[43m,\u001b[49m\u001b[43m \u001b[49m\u001b[38;5;241;43m*\u001b[39;49m\u001b[38;5;241;43m*\u001b[39;49m\u001b[43mkwargs\u001b[49m\u001b[43m)\u001b[49m\n\u001b[1;32m   1131\u001b[0m \u001b[38;5;66;03m# Do not call functions when jit is used\u001b[39;00m\n\u001b[1;32m   1132\u001b[0m full_backward_hooks, non_full_backward_hooks \u001b[38;5;241m=\u001b[39m [], []\n",
      "File \u001b[0;32m~/volest/volume-estimation/volume_estimation/modeling.py:268\u001b[0m, in \u001b[0;36mBaseline_Model.forward\u001b[0;34m(self, x)\u001b[0m\n\u001b[1;32m    266\u001b[0m \u001b[38;5;28;01mdef\u001b[39;00m \u001b[38;5;21mforward\u001b[39m(\u001b[38;5;28mself\u001b[39m, x):\n\u001b[1;32m    267\u001b[0m     \u001b[38;5;28;01mfor\u001b[39;00m layer \u001b[38;5;129;01min\u001b[39;00m \u001b[38;5;28mself\u001b[39m\u001b[38;5;241m.\u001b[39mnet:\n\u001b[0;32m--> 268\u001b[0m         x \u001b[38;5;241m=\u001b[39m \u001b[43mlayer\u001b[49m\u001b[43m(\u001b[49m\u001b[43mx\u001b[49m\u001b[43m)\u001b[49m\n\u001b[1;32m    269\u001b[0m     \u001b[38;5;28;01mreturn\u001b[39;00m x\n",
      "File \u001b[0;32m~/anaconda3/envs/s3d_env/lib/python3.8/site-packages/torch/nn/modules/module.py:1130\u001b[0m, in \u001b[0;36mModule._call_impl\u001b[0;34m(self, *input, **kwargs)\u001b[0m\n\u001b[1;32m   1126\u001b[0m \u001b[38;5;66;03m# If we don't have any hooks, we want to skip the rest of the logic in\u001b[39;00m\n\u001b[1;32m   1127\u001b[0m \u001b[38;5;66;03m# this function, and just call forward.\u001b[39;00m\n\u001b[1;32m   1128\u001b[0m \u001b[38;5;28;01mif\u001b[39;00m \u001b[38;5;129;01mnot\u001b[39;00m (\u001b[38;5;28mself\u001b[39m\u001b[38;5;241m.\u001b[39m_backward_hooks \u001b[38;5;129;01mor\u001b[39;00m \u001b[38;5;28mself\u001b[39m\u001b[38;5;241m.\u001b[39m_forward_hooks \u001b[38;5;129;01mor\u001b[39;00m \u001b[38;5;28mself\u001b[39m\u001b[38;5;241m.\u001b[39m_forward_pre_hooks \u001b[38;5;129;01mor\u001b[39;00m _global_backward_hooks\n\u001b[1;32m   1129\u001b[0m         \u001b[38;5;129;01mor\u001b[39;00m _global_forward_hooks \u001b[38;5;129;01mor\u001b[39;00m _global_forward_pre_hooks):\n\u001b[0;32m-> 1130\u001b[0m     \u001b[38;5;28;01mreturn\u001b[39;00m \u001b[43mforward_call\u001b[49m\u001b[43m(\u001b[49m\u001b[38;5;241;43m*\u001b[39;49m\u001b[38;5;28;43minput\u001b[39;49m\u001b[43m,\u001b[49m\u001b[43m \u001b[49m\u001b[38;5;241;43m*\u001b[39;49m\u001b[38;5;241;43m*\u001b[39;49m\u001b[43mkwargs\u001b[49m\u001b[43m)\u001b[49m\n\u001b[1;32m   1131\u001b[0m \u001b[38;5;66;03m# Do not call functions when jit is used\u001b[39;00m\n\u001b[1;32m   1132\u001b[0m full_backward_hooks, non_full_backward_hooks \u001b[38;5;241m=\u001b[39m [], []\n",
      "File \u001b[0;32m~/anaconda3/envs/s3d_env/lib/python3.8/site-packages/torch/nn/modules/pooling.py:622\u001b[0m, in \u001b[0;36mAvgPool2d.forward\u001b[0;34m(self, input)\u001b[0m\n\u001b[1;32m    621\u001b[0m \u001b[38;5;28;01mdef\u001b[39;00m \u001b[38;5;21mforward\u001b[39m(\u001b[38;5;28mself\u001b[39m, \u001b[38;5;28minput\u001b[39m: Tensor) \u001b[38;5;241m-\u001b[39m\u001b[38;5;241m>\u001b[39m Tensor:\n\u001b[0;32m--> 622\u001b[0m     \u001b[38;5;28;01mreturn\u001b[39;00m \u001b[43mF\u001b[49m\u001b[38;5;241;43m.\u001b[39;49m\u001b[43mavg_pool2d\u001b[49m\u001b[43m(\u001b[49m\u001b[38;5;28;43minput\u001b[39;49m\u001b[43m,\u001b[49m\u001b[43m \u001b[49m\u001b[38;5;28;43mself\u001b[39;49m\u001b[38;5;241;43m.\u001b[39;49m\u001b[43mkernel_size\u001b[49m\u001b[43m,\u001b[49m\u001b[43m \u001b[49m\u001b[38;5;28;43mself\u001b[39;49m\u001b[38;5;241;43m.\u001b[39;49m\u001b[43mstride\u001b[49m\u001b[43m,\u001b[49m\n\u001b[1;32m    623\u001b[0m \u001b[43m                        \u001b[49m\u001b[38;5;28;43mself\u001b[39;49m\u001b[38;5;241;43m.\u001b[39;49m\u001b[43mpadding\u001b[49m\u001b[43m,\u001b[49m\u001b[43m \u001b[49m\u001b[38;5;28;43mself\u001b[39;49m\u001b[38;5;241;43m.\u001b[39;49m\u001b[43mceil_mode\u001b[49m\u001b[43m,\u001b[49m\u001b[43m \u001b[49m\u001b[38;5;28;43mself\u001b[39;49m\u001b[38;5;241;43m.\u001b[39;49m\u001b[43mcount_include_pad\u001b[49m\u001b[43m,\u001b[49m\u001b[43m \u001b[49m\u001b[38;5;28;43mself\u001b[39;49m\u001b[38;5;241;43m.\u001b[39;49m\u001b[43mdivisor_override\u001b[49m\u001b[43m)\u001b[49m\n",
      "\u001b[0;31mRuntimeError\u001b[0m: CUDA out of memory. Tried to allocate 2.00 MiB (GPU 0; 23.64 GiB total capacity; 20.80 GiB already allocated; 3.56 MiB free; 21.78 GiB reserved in total by PyTorch) If reserved memory is >> allocated memory try setting max_split_size_mb to avoid fragmentation.  See documentation for Memory Management and PYTORCH_CUDA_ALLOC_CONF"
     ]
    }
   ],
   "source": [
    "features, labels = next(iter(test_dataloader))\n",
    "input_height = features.size()[2]\n",
    "input_width = features.size()[3]\n",
    "\n",
    "model = modeling.Baseline_Model((input_height, input_width)).to(device)\n",
    "model.load_state_dict(torch.load(model_state, map_location=device))\n",
    "test_metrics = compute_eval_metrics(test_dataloader, model, log=log)"
   ]
  },
  {
   "cell_type": "code",
   "execution_count": null,
   "id": "30ec2afe-38fc-4af9-8a21-79eb4e46c62d",
   "metadata": {},
   "outputs": [],
   "source": [
    "test_metrics"
   ]
  },
  {
   "cell_type": "code",
   "execution_count": null,
   "id": "2346b43c-317a-478d-ae53-3ca13d5dd273",
   "metadata": {},
   "outputs": [],
   "source": [
    "evaluation.compute_eval_metrics(test_dataloader, model, log=log)"
   ]
  },
  {
   "cell_type": "code",
   "execution_count": null,
   "id": "f58f06a0-0bcb-468e-ae2a-49d93c1c6342",
   "metadata": {},
   "outputs": [],
   "source": []
  }
 ],
 "metadata": {
  "kernelspec": {
   "display_name": "cxwnotebook",
   "language": "python",
   "name": "cxwnotebook"
  },
  "language_info": {
   "codemirror_mode": {
    "name": "ipython",
    "version": 3
   },
   "file_extension": ".py",
   "mimetype": "text/x-python",
   "name": "python",
   "nbconvert_exporter": "python",
   "pygments_lexer": "ipython3",
   "version": "3.8.13"
  }
 },
 "nbformat": 4,
 "nbformat_minor": 5
}
