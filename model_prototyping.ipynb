{
 "cells": [
  {
   "cell_type": "markdown",
   "id": "aa67b8d0-f013-4ba0-a615-12247bfc9ac7",
   "metadata": {},
   "source": [
    "# Model Prototyping\n",
    "\n",
    "Building the basis for our model experimentation"
   ]
  },
  {
   "cell_type": "code",
   "execution_count": 1,
   "id": "753b036f-c5b8-44cc-a653-4712b3b19d4e",
   "metadata": {},
   "outputs": [],
   "source": [
    "import numpy as np\n",
    "import pandas as pd\n",
    "import torch\n",
    "import os\n",
    "import json\n",
    "\n",
    "from torch.utils import data\n",
    "from torch.nn import Conv2d, AvgPool2d, ReLU, Dropout, Flatten, Linear, Sequential, Module\n",
    "from torch.optim import Adam\n",
    "from time import time\n",
    "\n",
    "from tqdm import tqdm\n",
    "\n",
    "device = torch.device(\"cuda:0\")\n",
    "torch.set_default_dtype(torch.float64)\n",
    "\n",
    "MODELS_DIR  = '/home/cxw/sonos_rirs/models/'"
   ]
  },
  {
   "cell_type": "code",
   "execution_count": 2,
   "id": "51e62a78-bba4-453b-9961-dba6aa7ba962",
   "metadata": {},
   "outputs": [],
   "source": [
    "model_dict = {}\n",
    "model_dict['name'] = \"testrun2_regularization\"\n",
    "model_dict['notes'] = \"same as test run but with regularization\"\n",
    "model_dict['data_path'] = '/home/cxw/sonos_rirs/features/080122_5k_phase/feature_df.csv'\n",
    "model_dict['model_path'] = os.path.join(MODELS_DIR, model_dict['name'])"
   ]
  },
  {
   "cell_type": "code",
   "execution_count": 3,
   "id": "789d403e",
   "metadata": {},
   "outputs": [],
   "source": [
    "try:\n",
    "    # 尝试导入IPython\n",
    "    from IPython import get_ipython\n",
    "    # 检查是否在IPython环境下\n",
    "    if get_ipython() is not None:\n",
    "        # 加载autoreload扩展\n",
    "        %load_ext autoreload\n",
    "        # 设置autoreload为2\n",
    "        %autoreload 2\n",
    "except ImportError:\n",
    "    # 如果IPython没有被安装，则不作任何操作\n",
    "    pass"
   ]
  },
  {
   "cell_type": "code",
   "execution_count": 4,
   "id": "1e13f9ea-8e81-447e-b228-3c1fa0b22de0",
   "metadata": {
    "scrolled": true
   },
   "outputs": [],
   "source": [
    "# %autoreload 2\n",
    "# # import volume_estimation.modeling as model_funcs\n",
    "# model_funcs.train_model(model_funcs.Baseline_Model, model_dict,\\\n",
    "#                         overwrite=True, epochs=10,log=False) #######################################################"
   ]
  },
  {
   "cell_type": "code",
   "execution_count": 5,
   "id": "723b0f82-6ce6-489f-9c5a-10161015d33d",
   "metadata": {},
   "outputs": [
    {
     "name": "stderr",
     "output_type": "stream",
     "text": [
      "32000it [00:20, 1559.14it/s]\n"
     ]
    }
   ],
   "source": [
    "feat_df = pd.read_csv(model_dict['data_path'])\n",
    "model_path = os.path.join(MODELS_DIR, model_dict['name'])\n",
    "\n",
    "dataset = []\n",
    "\n",
    "    \n",
    "def create_dataloader(feature_df, batch_size=1, log=True):\n",
    "    dataset = []\n",
    "    for row in tqdm(feature_df.iterrows()):\n",
    "        feat_file = row[1]['file_feature']\n",
    "        loaded = np.load(feat_file)\n",
    "\n",
    "        feature = loaded['feat']\n",
    "        feature = feature.reshape((1, feature.shape[0], feature.shape[1]))\n",
    "        feature = np.real(feature)\n",
    "\n",
    "        vol = loaded['vol']\n",
    "        if log:\n",
    "            vol = np.log10(vol)\n",
    "        dataset.append((feature, vol))\n",
    "    \n",
    "    dataloader = torch.utils.data.DataLoader(dataset, batch_size=batch_size)\n",
    "    return dataloader\n",
    "\n",
    "dataloader = create_dataloader(feat_df, log=False)"
   ]
  },
  {
   "cell_type": "code",
   "execution_count": 6,
   "id": "c987b41d-7f00-41cc-bb96-c6fdedc585f0",
   "metadata": {},
   "outputs": [
    {
     "name": "stdout",
     "output_type": "stream",
     "text": [
      "name testrun2_regularization\n",
      "notes same as test run but with regularization\n",
      "data_path /home/cxw/sonos_rirs/features/080122_5k_phase/feature_df.csv\n",
      "model_path /home/cxw/sonos_rirs/models/testrun2_regularization\n"
     ]
    }
   ],
   "source": [
    "savename = './testmodeldict.json'\n",
    "with open(savename, 'w') as f:\n",
    "    json.dump(model_dict, f)\n",
    "    \n",
    "with open(savename) as f:\n",
    "    load_dict = json.load(f)\n",
    "    \n",
    "for key in load_dict.keys():\n",
    "    print(key, load_dict[key])"
   ]
  },
  {
   "cell_type": "code",
   "execution_count": 7,
   "id": "73a66ab9-e949-4408-943c-ade51b8c2562",
   "metadata": {},
   "outputs": [
    {
     "name": "stdout",
     "output_type": "stream",
     "text": [
      "Creating training dataloader\n"
     ]
    },
    {
     "name": "stderr",
     "output_type": "stream",
     "text": [
      "19200it [00:12, 1560.22it/s]\n"
     ]
    },
    {
     "name": "stdout",
     "output_type": "stream",
     "text": [
      "Creating validation dataloader\n"
     ]
    },
    {
     "name": "stderr",
     "output_type": "stream",
     "text": [
      "6420it [00:04, 1566.00it/s]\n"
     ]
    },
    {
     "name": "stdout",
     "output_type": "stream",
     "text": [
      "Creating test dataloader\n"
     ]
    },
    {
     "name": "stderr",
     "output_type": "stream",
     "text": [
      "6380it [00:04, 1565.60it/s]\n"
     ]
    }
   ],
   "source": [
    "train_df = feat_df[feat_df['split']=='train']\n",
    "val_df = feat_df[feat_df['split']=='val']\n",
    "test_df = feat_df[feat_df['split']=='test']\n",
    "\n",
    "print(\"Creating training dataloader\")\n",
    "train_dataloader = create_dataloader(train_df, batch_size=128)\n",
    "\n",
    "print(\"Creating validation dataloader\")\n",
    "val_dataloader = create_dataloader(val_df)\n",
    "\n",
    "print(\"Creating test dataloader\")\n",
    "test_dataloader = create_dataloader(test_df)"
   ]
  },
  {
   "cell_type": "code",
   "execution_count": 8,
   "id": "1f680db8-27a2-4db8-84d3-2ef287da00ae",
   "metadata": {},
   "outputs": [
    {
     "name": "stdout",
     "output_type": "stream",
     "text": [
      "Feature batch shape: torch.Size([128, 1, 30, 1997])\n",
      "Labels batch shape: torch.Size([128])\n"
     ]
    }
   ],
   "source": [
    "features, labels = next(iter(train_dataloader))\n",
    "print(f\"Feature batch shape: {features.size()}\")\n",
    "print(f\"Labels batch shape: {labels.size()}\")"
   ]
  },
  {
   "cell_type": "code",
   "execution_count": 9,
   "id": "c776c9f2-fba2-4f0f-9ea2-93f35ecaeb4f",
   "metadata": {
    "tags": []
   },
   "outputs": [],
   "source": [
    "class Baseline_Model(Module):\n",
    "    def __init__(self, input_shape):\n",
    "        #accepts a tuple with the height/width of the feature\n",
    "        #matrix to set the FC layer dimensions\n",
    "        super(Baseline_Model, self).__init__()\n",
    "        \n",
    "        #block1\n",
    "        Conv1 = Conv2d(1, 30, kernel_size=(1,10), stride=(1,1))\n",
    "        Avgpool1 = AvgPool2d((1,2), stride=(1,2))\n",
    "\n",
    "        #block2\n",
    "        Conv2 = Conv2d(30, 20, kernel_size=(1,10), stride=(1,1))\n",
    "        Avgpool2 = AvgPool2d((1,2), stride=(1,2))\n",
    "\n",
    "        #block3\n",
    "        Conv3 = Conv2d(20, 10, kernel_size=(1,10), stride=(1,1))\n",
    "        Avgpool3 = AvgPool2d((1,2), stride=(1,2))\n",
    "\n",
    "        #block4\n",
    "        Conv4 = Conv2d(10, 10, kernel_size=(1,10), stride=(1,1))\n",
    "        Avgpool4 = AvgPool2d((1,2), stride=(1,2))\n",
    "\n",
    "        #block5\n",
    "        Conv5 = Conv2d(10, 5, kernel_size=(3,9), stride=(1,1))\n",
    "        Avgpool5 = AvgPool2d((1,2), stride=(1,2))\n",
    "\n",
    "        #block6\n",
    "        Conv6 = Conv2d(5, 5, kernel_size=(3,9), stride=(1,1))\n",
    "        Avgpool6 = AvgPool2d((2,2), stride=(2,2))\n",
    "\n",
    "        #dropout\n",
    "        dropout_layer = Dropout(p=0.5)\n",
    "        height5 = input_shape[0] - 2\n",
    "        height6 = (height5 - 2) // 2\n",
    "\n",
    "        time1 = (input_shape[1] - 9) // 2\n",
    "        time2 = (time1 - 9) // 2\n",
    "        time3 = (time2 - 9) // 2\n",
    "        time4 = (time3 - 9) // 2\n",
    "        time5 = (time4 - 7) // 2\n",
    "        time6 = (time5 - 7) // 2\n",
    "\n",
    "        flat_dims = 5 * height6 * time6\n",
    "        fc_layer = Linear(flat_dims, 1)\n",
    "        \n",
    "        self.net = Sequential(\n",
    "                    Conv1, ReLU(), Avgpool1,\n",
    "                    Conv2, ReLU(), Avgpool2,\n",
    "                    Conv3, ReLU(), Avgpool3,\n",
    "                    Conv4, ReLU(), Avgpool4,\n",
    "                    Conv5, ReLU(), Avgpool5,\n",
    "                    Conv6, ReLU(), Avgpool6,\n",
    "                    dropout_layer, Flatten(),\n",
    "                    fc_layer, Flatten()\n",
    "                )\n",
    "    def forward(self, x):\n",
    "        for layer in self.net:\n",
    "            x = layer(x)\n",
    "        return x"
   ]
  },
  {
   "cell_type": "code",
   "execution_count": null,
   "id": "8e1d4bb4",
   "metadata": {},
   "outputs": [],
   "source": []
  },
  {
   "cell_type": "code",
   "execution_count": 10,
   "id": "679cdf44-c94c-4f28-85ef-60136ca87ec8",
   "metadata": {},
   "outputs": [],
   "source": [
    "input_height = features.size()[2]\n",
    "input_width = features.size()[3]\n",
    "\n",
    "model = Baseline_Model((input_height, input_width)).to(device)"
   ]
  },
  {
   "cell_type": "code",
   "execution_count": 11,
   "id": "c15e54c8-8449-4890-95ee-a5749982a306",
   "metadata": {},
   "outputs": [],
   "source": [
    "def MSE(output, target):\n",
    "    loss = torch.mean((output - target)**2)\n",
    "    return loss\n",
    "\n",
    "def Bias(output, target):\n",
    "    loss = torch.mean(torch.abs(10**output - 10**target))\n",
    "    return loss\n",
    "\n",
    "def CovStep(output, target, output_mean, target_mean):\n",
    "    loss = torch.mean(((output - output_mean) * (target - target_mean)))\n",
    "    return loss\n",
    "\n",
    "def MeanAbsLogStep(output, target, log=True):\n",
    "    #convert out of log\n",
    "    if log:\n",
    "        vol_pred = 10**output\n",
    "        vol_target = 10**target\n",
    "    else:\n",
    "        vol_pred = output\n",
    "        vol_target = target\n",
    "    loss = torch.mean(torch.abs(torch.log(vol_pred/vol_target)))\n",
    "    return loss\n",
    "\n",
    "def compute_eval_metrics(dataloader, model, log=True):\n",
    "    target_sum = 0\n",
    "    pred_sum = 0\n",
    "    n_steps = 0\n",
    "    \n",
    "    for (x,y) in dataloader:        \n",
    "        (x, y) = (x.to(device), y.to(device))\n",
    "        pred = model(x)\n",
    "        target_sum += y.sum()\n",
    "        pred_sum += pred.sum()\n",
    "        n_steps += 1\n",
    "    \n",
    "    target_mean = target_sum/n_steps\n",
    "    pred_mean = pred_sum/n_steps\n",
    "    \n",
    "    mse = 0\n",
    "    mean_error = 0\n",
    "    cov = 0\n",
    "    abs_log_ratio = 0\n",
    "    \n",
    "    var_pred = 0 #technically var * N but gets cancelled out in Pearson calculation\n",
    "    var_target = 0 \n",
    "    \n",
    "    for (x,y) in dataloader:        \n",
    "        (x, y) = (x.to(device), y.to(device))\n",
    "        pred = model(x)\n",
    "        mse += MSE(pred, y)\n",
    "        mean_error += Bias(pred, y)\n",
    "        cov += CovStep(pred, y, pred_mean, target_mean)\n",
    "        abs_log_ratio += MeanAbsLogStep(pred, y, log=log)\n",
    "        \n",
    "        var_pred += MSE(pred, pred_mean)\n",
    "        var_target += MSE(y, target_mean)\n",
    "        \n",
    "        pears = CovStep(pred, y, pred_mean, target_mean)/(torch.sqrt(MSE(pred, pred_mean))*torch.sqrt(MSE(y, target_mean)))\n",
    "    \n",
    "    out_dict = {}\n",
    "    out_dict['mse'] = (mse / n_steps).item()\n",
    "    out_dict['bias'] = (mean_error / n_steps).item()\n",
    "    out_dict['pearson_cor'] = (cov/(torch.sqrt(var_pred) * torch.sqrt(var_target))).item()\n",
    "    out_dict['mean_mult'] = (torch.exp(abs_log_ratio/n_steps)).item()\n",
    "    \n",
    "    return out_dict\n",
    "    \n",
    "# eval_dict = compute_eval_metrics(val_dataloader, model)\n",
    "# print(eval_dict)"
   ]
  },
  {
   "cell_type": "code",
   "execution_count": null,
   "id": "b7ca9da7-3de4-4f84-a11e-2e7f123691ac",
   "metadata": {
    "scrolled": false,
    "tags": []
   },
   "outputs": [
    {
     "name": "stdout",
     "output_type": "stream",
     "text": [
      "Epoch: 0\tDuration: 77.90s\tTrain loss: 1.5774\tVal loss: 0.7241\tVal bias:2786.1421\tVal Pearson correlation: 2.9088e-01\tVal MeanMult: 5.5404\n",
      "Epoch: 1\tDuration: 76.83s\tTrain loss: 0.6951\tVal loss: 0.6993\tVal bias:2740.6639\tVal Pearson correlation: 3.0870e-01\tVal MeanMult: 5.2979\n",
      "Epoch: 2\tDuration: 77.69s\tTrain loss: 0.6797\tVal loss: 0.7001\tVal bias:2732.8030\tVal Pearson correlation: 3.2427e-01\tVal MeanMult: 5.2086\n",
      "Epoch: 3\tDuration: 76.83s\tTrain loss: 0.6755\tVal loss: 0.7050\tVal bias:2727.3719\tVal Pearson correlation: 3.3933e-01\tVal MeanMult: 5.1369\n",
      "Epoch: 4\tDuration: 76.80s\tTrain loss: 0.6669\tVal loss: 0.7007\tVal bias:2713.2363\tVal Pearson correlation: 3.5256e-01\tVal MeanMult: 5.0448\n",
      "Epoch: 5\tDuration: 76.86s\tTrain loss: 0.6611\tVal loss: 0.6969\tVal bias:2703.1054\tVal Pearson correlation: 3.6251e-01\tVal MeanMult: 4.9865\n",
      "Epoch: 6\tDuration: 76.80s\tTrain loss: 0.6583\tVal loss: 0.6934\tVal bias:2695.7467\tVal Pearson correlation: 3.6830e-01\tVal MeanMult: 4.9466\n",
      "Epoch: 7\tDuration: 76.71s\tTrain loss: 0.6533\tVal loss: 0.6877\tVal bias:2685.6187\tVal Pearson correlation: 3.7374e-01\tVal MeanMult: 4.8962\n",
      "Epoch: 8\tDuration: 77.41s\tTrain loss: 0.6493\tVal loss: 0.6909\tVal bias:2685.6444\tVal Pearson correlation: 3.7989e-01\tVal MeanMult: 4.8783\n",
      "Epoch: 9\tDuration: 77.18s\tTrain loss: 0.6473\tVal loss: 0.6904\tVal bias:2682.4997\tVal Pearson correlation: 3.8647e-01\tVal MeanMult: 4.8492\n",
      "Epoch: 10\tDuration: 77.12s\tTrain loss: 0.6435\tVal loss: 0.6768\tVal bias:2669.6529\tVal Pearson correlation: 3.9639e-01\tVal MeanMult: 4.7971\n",
      "Epoch: 11\tDuration: 76.85s\tTrain loss: 0.6360\tVal loss: 0.6707\tVal bias:2666.2953\tVal Pearson correlation: 4.1058e-01\tVal MeanMult: 4.7596\n",
      "Epoch: 12\tDuration: 76.92s\tTrain loss: 0.6331\tVal loss: 0.6748\tVal bias:2674.0981\tVal Pearson correlation: 4.2368e-01\tVal MeanMult: 4.7430\n",
      "Epoch: 13\tDuration: 76.91s\tTrain loss: 0.6242\tVal loss: 0.6662\tVal bias:2684.2080\tVal Pearson correlation: 4.4552e-01\tVal MeanMult: 4.7221\n",
      "Epoch: 14\tDuration: 77.20s\tTrain loss: 0.6191\tVal loss: 0.6313\tVal bias:2633.9989\tVal Pearson correlation: 4.5938e-01\tVal MeanMult: 4.5382\n",
      "Epoch: 15\tDuration: 77.06s\tTrain loss: 0.6157\tVal loss: 0.6028\tVal bias:2603.1814\tVal Pearson correlation: 4.7120e-01\tVal MeanMult: 4.3867\n",
      "Epoch: 16\tDuration: 76.93s\tTrain loss: 0.6096\tVal loss: 0.6087\tVal bias:2622.8266\tVal Pearson correlation: 4.9046e-01\tVal MeanMult: 4.4001\n",
      "Epoch: 17\tDuration: 76.93s\tTrain loss: 0.6047\tVal loss: 0.5837\tVal bias:2593.4498\tVal Pearson correlation: 5.0347e-01\tVal MeanMult: 4.3358\n",
      "Epoch: 18\tDuration: 77.67s\tTrain loss: 0.5990\tVal loss: 0.6117\tVal bias:2664.2323\tVal Pearson correlation: 5.1729e-01\tVal MeanMult: 4.4382\n",
      "Epoch: 19\tDuration: 79.26s\tTrain loss: 0.5928\tVal loss: 0.6047\tVal bias:2650.4654\tVal Pearson correlation: 5.2317e-01\tVal MeanMult: 4.3565\n",
      "Epoch: 20\tDuration: 79.84s\tTrain loss: 0.5842\tVal loss: 0.6077\tVal bias:2656.7034\tVal Pearson correlation: 5.2873e-01\tVal MeanMult: 4.3428\n",
      "Epoch: 21\tDuration: 79.72s\tTrain loss: 0.5808\tVal loss: 0.5965\tVal bias:2623.9291\tVal Pearson correlation: 5.3102e-01\tVal MeanMult: 4.2083\n",
      "Epoch: 22\tDuration: 78.55s\tTrain loss: 0.5743\tVal loss: 0.6120\tVal bias:2660.5762\tVal Pearson correlation: 5.3663e-01\tVal MeanMult: 4.3236\n",
      "Epoch: 23\tDuration: 77.53s\tTrain loss: 0.5740\tVal loss: 0.5937\tVal bias:2616.3254\tVal Pearson correlation: 5.3554e-01\tVal MeanMult: 4.1702\n",
      "Epoch: 24\tDuration: 77.64s\tTrain loss: 0.5701\tVal loss: 0.5691\tVal bias:2588.2476\tVal Pearson correlation: 5.3642e-01\tVal MeanMult: 4.0556\n",
      "Epoch: 25\tDuration: 77.88s\tTrain loss: 0.5655\tVal loss: 0.5721\tVal bias:2594.0559\tVal Pearson correlation: 5.3904e-01\tVal MeanMult: 4.0782\n",
      "Epoch: 26\tDuration: 78.07s\tTrain loss: 0.5615\tVal loss: 0.5650\tVal bias:2585.1389\tVal Pearson correlation: 5.4436e-01\tVal MeanMult: 4.0379\n",
      "Epoch: 27\tDuration: 77.90s\tTrain loss: 0.5605\tVal loss: 0.5668\tVal bias:2588.5326\tVal Pearson correlation: 5.4768e-01\tVal MeanMult: 4.0313\n",
      "Epoch: 28\tDuration: 77.81s\tTrain loss: 0.5589\tVal loss: 0.5729\tVal bias:2599.5512\tVal Pearson correlation: 5.4862e-01\tVal MeanMult: 4.0760\n",
      "Epoch: 29\tDuration: 78.09s\tTrain loss: 0.5616\tVal loss: 0.5583\tVal bias:2583.4756\tVal Pearson correlation: 5.4930e-01\tVal MeanMult: 4.0088\n",
      "Epoch: 30\tDuration: 79.80s\tTrain loss: 0.5610\tVal loss: 0.5592\tVal bias:2584.8873\tVal Pearson correlation: 5.5501e-01\tVal MeanMult: 4.0059\n",
      "Epoch: 31\tDuration: 78.21s\tTrain loss: 0.5561\tVal loss: 0.5608\tVal bias:2585.6070\tVal Pearson correlation: 5.5405e-01\tVal MeanMult: 4.0081\n",
      "Epoch: 32\tDuration: 77.78s\tTrain loss: 0.5583\tVal loss: 0.5618\tVal bias:2587.9194\tVal Pearson correlation: 5.5814e-01\tVal MeanMult: 3.9913\n",
      "Epoch: 33\tDuration: 79.13s\tTrain loss: 0.5516\tVal loss: 0.5514\tVal bias:2577.2246\tVal Pearson correlation: 5.5617e-01\tVal MeanMult: 3.9648\n",
      "Epoch: 34\tDuration: 77.74s\tTrain loss: 0.5549\tVal loss: 0.5503\tVal bias:2575.5861\tVal Pearson correlation: 5.5751e-01\tVal MeanMult: 3.9658\n",
      "Epoch: 35\tDuration: 77.99s\tTrain loss: 0.5486\tVal loss: 0.5497\tVal bias:2576.2423\tVal Pearson correlation: 5.6282e-01\tVal MeanMult: 3.9536\n",
      "Epoch: 36\tDuration: 76.97s\tTrain loss: 0.5522\tVal loss: 0.5486\tVal bias:2574.6214\tVal Pearson correlation: 5.6407e-01\tVal MeanMult: 3.9285\n",
      "Epoch: 37\tDuration: 78.05s\tTrain loss: 0.5501\tVal loss: 0.5435\tVal bias:2571.4070\tVal Pearson correlation: 5.6802e-01\tVal MeanMult: 3.9219\n",
      "Epoch: 38\tDuration: 77.08s\tTrain loss: 0.5481\tVal loss: 0.5427\tVal bias:2569.6181\tVal Pearson correlation: 5.6675e-01\tVal MeanMult: 3.9158\n",
      "Epoch: 39\tDuration: 77.32s\tTrain loss: 0.5447\tVal loss: 0.5466\tVal bias:2581.1355\tVal Pearson correlation: 5.7258e-01\tVal MeanMult: 3.9403\n",
      "Epoch: 40\tDuration: 77.02s\tTrain loss: 0.5470\tVal loss: 0.5424\tVal bias:2574.1773\tVal Pearson correlation: 5.7308e-01\tVal MeanMult: 3.9252\n",
      "Epoch: 41\tDuration: 77.34s\tTrain loss: 0.5430\tVal loss: 0.5358\tVal bias:2565.7849\tVal Pearson correlation: 5.7588e-01\tVal MeanMult: 3.8860\n",
      "Epoch: 42\tDuration: 77.28s\tTrain loss: 0.5382\tVal loss: 0.5307\tVal bias:2558.0042\tVal Pearson correlation: 5.7773e-01\tVal MeanMult: 3.8671\n",
      "Epoch: 43\tDuration: 77.56s\tTrain loss: 0.5376\tVal loss: 0.5355\tVal bias:2564.5839\tVal Pearson correlation: 5.7830e-01\tVal MeanMult: 3.8768\n",
      "Epoch: 44\tDuration: 77.33s\tTrain loss: 0.5367\tVal loss: 0.5310\tVal bias:2562.5225\tVal Pearson correlation: 5.8048e-01\tVal MeanMult: 3.8660\n",
      "Epoch: 45\tDuration: 77.73s\tTrain loss: 0.5356\tVal loss: 0.5227\tVal bias:2551.2089\tVal Pearson correlation: 5.8142e-01\tVal MeanMult: 3.8401\n",
      "Epoch: 46\tDuration: 77.33s\tTrain loss: 0.5340\tVal loss: 0.5310\tVal bias:2568.1429\tVal Pearson correlation: 5.8706e-01\tVal MeanMult: 3.8680\n",
      "Epoch: 47\tDuration: 77.23s\tTrain loss: 0.5362\tVal loss: 0.5218\tVal bias:2550.4474\tVal Pearson correlation: 5.8484e-01\tVal MeanMult: 3.8251\n",
      "Epoch: 48\tDuration: 77.49s\tTrain loss: 0.5330\tVal loss: 0.5283\tVal bias:2562.1383\tVal Pearson correlation: 5.8748e-01\tVal MeanMult: 3.8475\n",
      "Epoch: 49\tDuration: 77.69s\tTrain loss: 0.5308\tVal loss: 0.5208\tVal bias:2549.9650\tVal Pearson correlation: 5.8866e-01\tVal MeanMult: 3.8064\n",
      "Epoch: 50\tDuration: 77.33s\tTrain loss: 0.5306\tVal loss: 0.5183\tVal bias:2546.2351\tVal Pearson correlation: 5.9034e-01\tVal MeanMult: 3.8003\n",
      "Epoch: 51\tDuration: 77.60s\tTrain loss: 0.5261\tVal loss: 0.5113\tVal bias:2535.5355\tVal Pearson correlation: 5.9323e-01\tVal MeanMult: 3.7773\n",
      "Epoch: 52\tDuration: 77.58s\tTrain loss: 0.5245\tVal loss: 0.5124\tVal bias:2540.9927\tVal Pearson correlation: 5.9432e-01\tVal MeanMult: 3.7761\n",
      "Epoch: 53\tDuration: 77.31s\tTrain loss: 0.5240\tVal loss: 0.5121\tVal bias:2542.1735\tVal Pearson correlation: 5.9603e-01\tVal MeanMult: 3.7773\n",
      "Epoch: 54\tDuration: 78.00s\tTrain loss: 0.5264\tVal loss: 0.5094\tVal bias:2531.0623\tVal Pearson correlation: 5.9425e-01\tVal MeanMult: 3.7549\n",
      "Epoch: 55\tDuration: 77.28s\tTrain loss: 0.5203\tVal loss: 0.5100\tVal bias:2534.4663\tVal Pearson correlation: 5.9755e-01\tVal MeanMult: 3.7570\n",
      "Epoch: 56\tDuration: 77.74s\tTrain loss: 0.5210\tVal loss: 0.5122\tVal bias:2540.6478\tVal Pearson correlation: 5.9867e-01\tVal MeanMult: 3.7561\n",
      "Epoch: 57\tDuration: 77.29s\tTrain loss: 0.5194\tVal loss: 0.5061\tVal bias:2530.6254\tVal Pearson correlation: 6.0109e-01\tVal MeanMult: 3.7202\n",
      "Epoch: 58\tDuration: 77.13s\tTrain loss: 0.5176\tVal loss: 0.5063\tVal bias:2529.1399\tVal Pearson correlation: 6.0135e-01\tVal MeanMult: 3.7193\n",
      "Epoch: 59\tDuration: 77.19s\tTrain loss: 0.5173\tVal loss: 0.5040\tVal bias:2523.4869\tVal Pearson correlation: 6.0237e-01\tVal MeanMult: 3.7156\n"
     ]
    },
    {
     "name": "stdout",
     "output_type": "stream",
     "text": [
      "Epoch: 60\tDuration: 77.17s\tTrain loss: 0.5149\tVal loss: 0.5084\tVal bias:2540.0195\tVal Pearson correlation: 6.0632e-01\tVal MeanMult: 3.7313\n",
      "Epoch: 61\tDuration: 77.14s\tTrain loss: 0.5128\tVal loss: 0.4989\tVal bias:2516.7650\tVal Pearson correlation: 6.0712e-01\tVal MeanMult: 3.6788\n",
      "Epoch: 62\tDuration: 77.27s\tTrain loss: 0.5100\tVal loss: 0.5026\tVal bias:2528.3459\tVal Pearson correlation: 6.0841e-01\tVal MeanMult: 3.7084\n",
      "Epoch: 63\tDuration: 77.33s\tTrain loss: 0.5129\tVal loss: 0.4959\tVal bias:2507.3794\tVal Pearson correlation: 6.0860e-01\tVal MeanMult: 3.6585\n",
      "Epoch: 64\tDuration: 77.31s\tTrain loss: 0.5097\tVal loss: 0.4950\tVal bias:2503.8909\tVal Pearson correlation: 6.0850e-01\tVal MeanMult: 3.6560\n",
      "Epoch: 65\tDuration: 77.38s\tTrain loss: 0.5075\tVal loss: 0.4883\tVal bias:2489.0802\tVal Pearson correlation: 6.1043e-01\tVal MeanMult: 3.6216\n",
      "Epoch: 66\tDuration: 77.68s\tTrain loss: 0.5086\tVal loss: 0.4940\tVal bias:2504.5989\tVal Pearson correlation: 6.1123e-01\tVal MeanMult: 3.6376\n",
      "Epoch: 67\tDuration: 77.84s\tTrain loss: 0.5070\tVal loss: 0.4907\tVal bias:2496.8220\tVal Pearson correlation: 6.1250e-01\tVal MeanMult: 3.6472\n",
      "Epoch: 68\tDuration: 78.99s\tTrain loss: 0.5072\tVal loss: 0.4885\tVal bias:2493.4500\tVal Pearson correlation: 6.1232e-01\tVal MeanMult: 3.6296\n",
      "Epoch: 69\tDuration: 80.66s\tTrain loss: 0.5006\tVal loss: 0.4864\tVal bias:2494.0354\tVal Pearson correlation: 6.1687e-01\tVal MeanMult: 3.6195\n",
      "Epoch: 70\tDuration: 79.77s\tTrain loss: 0.5024\tVal loss: 0.4894\tVal bias:2497.1395\tVal Pearson correlation: 6.1519e-01\tVal MeanMult: 3.6209\n",
      "Epoch: 71\tDuration: 78.20s\tTrain loss: 0.5014\tVal loss: 0.4917\tVal bias:2506.6081\tVal Pearson correlation: 6.1590e-01\tVal MeanMult: 3.6468\n",
      "Epoch: 72\tDuration: 79.96s\tTrain loss: 0.4992\tVal loss: 0.4911\tVal bias:2506.1208\tVal Pearson correlation: 6.1849e-01\tVal MeanMult: 3.6240\n",
      "Epoch: 73\tDuration: 80.07s\tTrain loss: 0.4992\tVal loss: 0.4845\tVal bias:2489.6561\tVal Pearson correlation: 6.1882e-01\tVal MeanMult: 3.5903\n",
      "Epoch: 74\tDuration: 79.21s\tTrain loss: 0.4972\tVal loss: 0.4823\tVal bias:2478.4819\tVal Pearson correlation: 6.1874e-01\tVal MeanMult: 3.5742\n"
     ]
    }
   ],
   "source": [
    "opt = Adam(model.parameters(),lr=0.0005, weight_decay=1e-2)\n",
    "\n",
    "hist = {\n",
    "\t\"train_loss\": [],\n",
    "\t\"val_loss\": [],\n",
    "    \"val_bias\": [],\n",
    "    \"val_pearson_cor\": [],\n",
    "    \"val_mean_mult\": []\n",
    "}\n",
    "\n",
    "for ep in range(800):     #########################################################################                   \n",
    "    t_start = time()\n",
    "    model.train()\n",
    "    \n",
    "    train_loss = 0\n",
    "    val_loss = 0\n",
    "    train_steps = 0\n",
    "    val_steps = 0\n",
    "    \n",
    "    for (x, y) in train_dataloader:\n",
    "        (x, y) = (x.to(device), y.to(device))\n",
    "        pred = model(x)\n",
    "        loss = MSE(pred, y.reshape((y.shape[0], 1)))\n",
    "        \n",
    "        opt.zero_grad()\n",
    "        loss.backward()\n",
    "        opt.step()\n",
    "        \n",
    "        train_loss += loss\n",
    "        train_steps += 1\n",
    "    \n",
    "    with torch.no_grad():\n",
    "        model.eval()\n",
    "        \n",
    "        val_metrics = compute_eval_metrics(val_dataloader, model)\n",
    "    \n",
    "    \n",
    "    hist['train_loss'].append(train_loss/train_steps)\n",
    "    hist['val_loss'].append(val_metrics['mse'])\n",
    "    hist['val_bias'].append(val_metrics['bias'])\n",
    "    hist['val_pearson_cor'].append(val_metrics['pearson_cor'])\n",
    "    hist['val_mean_mult'].append(val_metrics['mean_mult'])\n",
    "    \n",
    "    t_end = time()\n",
    "    \n",
    "    t_elapsed = t_end - t_start\n",
    "    print(\"Epoch: {}\\tDuration: {:.2f}s\\tTrain loss: {:.4f}\\tVal loss: {:.4f}\\tVal bias:{:.4f}\\tVal Pearson correlation: {:.4e}\\tVal MeanMult: {:.4f}\"\\\n",
    "          .format(ep, t_elapsed, train_loss/train_steps, val_metrics['mse'],\\\n",
    "                  val_metrics['bias'], val_metrics['pearson_cor'],val_metrics['mean_mult']))\n",
    "    \n",
    "    \n",
    "    "
   ]
  },
  {
   "cell_type": "markdown",
   "id": "20d51875",
   "metadata": {},
   "source": [
    "torch.cuda.empty_cache()"
   ]
  },
  {
   "cell_type": "code",
   "execution_count": null,
   "id": "e80a23d4",
   "metadata": {},
   "outputs": [],
   "source": [
    "import csv\n",
    "\n",
    "# 创建一个空列表来存储pred和y的值\n",
    "data_to_save = []\n",
    "\n",
    "test1_df = test_df.sample(5)\n",
    "\n",
    "mae = 0.0 \n",
    "total_samples = 0\n",
    "\n",
    "test_dataloader1 = create_dataloader(test1_df) \n",
    "test_random = compute_eval_metrics(test_dataloader1,model) \n",
    "print(test_random)\n",
    "\n",
    "for(x,y) in test_dataloader: \n",
    "    (x,y) = (x.to(device),y.to(device)) \n",
    "    pred = model(x) \n",
    "    for i in range(len(pred)):\n",
    "        data_to_save.append([pred[i].item(), y[i].item()])\n",
    "\n",
    "# 指定要保存的CSV文件名\n",
    "csv_filename = 'predictions.csv'\n",
    "\n",
    "# 打开CSV文件并将数据写入\n",
    "with open(csv_filename, 'w', newline='') as csvfile:\n",
    "    csv_writer = csv.writer(csvfile)\n",
    "    \n",
    "    # 写入列名（如果需要）\n",
    "    csv_writer.writerow(['Prediction', 'Actual'])\n",
    "    \n",
    "    # 写入数据\n",
    "    csv_writer.writerows(data_to_save)\n",
    "\n",
    "print(f'Data saved to {csv_filename}')\n",
    "#     print(pred,'///',y)\n",
    "\n",
    "#     # 计算绝对误差\n",
    "#     absolute_error = torch.abs(pred-y)\n",
    "\n",
    "#     # 累加绝对误差和样本数\n",
    "#     mae += absolute_error.sum().item()\n",
    "    \n",
    "\n",
    "# #     计算平均绝对误差\n",
    "\n",
    "\n",
    "# mae /= 5 \n",
    "# print(\"MAE:\", mae)\n",
    "\n"
   ]
  },
  {
   "cell_type": "code",
   "execution_count": null,
   "id": "3dbb35a4-183c-43d8-ab9a-00adaba3bb4b",
   "metadata": {},
   "outputs": [],
   "source": [
    "with torch.no_grad():\n",
    "    eval_test = compute_eval_metrics(test_dataloader, model)\n",
    "    print(eval_test)"
   ]
  },
  {
   "cell_type": "code",
   "execution_count": null,
   "id": "bde495a6",
   "metadata": {},
   "outputs": [],
   "source": []
  },
  {
   "cell_type": "code",
   "execution_count": null,
   "id": "ae6dd632",
   "metadata": {},
   "outputs": [],
   "source": []
  }
 ],
 "metadata": {
  "kernelspec": {
   "display_name": "cxwnotebook",
   "language": "python",
   "name": "cxwnotebook"
  },
  "language_info": {
   "codemirror_mode": {
    "name": "ipython",
    "version": 3
   },
   "file_extension": ".py",
   "mimetype": "text/x-python",
   "name": "python",
   "nbconvert_exporter": "python",
   "pygments_lexer": "ipython3",
   "version": "3.8.13"
  }
 },
 "nbformat": 4,
 "nbformat_minor": 5
}
