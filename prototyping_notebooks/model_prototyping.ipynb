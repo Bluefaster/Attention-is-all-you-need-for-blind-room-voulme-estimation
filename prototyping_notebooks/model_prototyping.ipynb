{
 "cells": [
  {
   "cell_type": "markdown",
   "id": "aa67b8d0-f013-4ba0-a615-12247bfc9ac7",
   "metadata": {},
   "source": [
    "# Model Prototyping\n",
    "\n",
    "Building the basis for our model experimentation"
   ]
  },
  {
   "cell_type": "code",
   "execution_count": 4,
   "id": "753b036f-c5b8-44cc-a653-4712b3b19d4e",
   "metadata": {},
   "outputs": [],
   "source": [
    "import numpy as np\n",
    "import pandas as pd\n",
    "import torch\n",
    "import os\n",
    "import json\n",
    "\n",
    "from torch.utils import data\n",
    "from torch.nn import Conv2d, AvgPool2d, ReLU, Dropout, Flatten, Linear, Sequential, Module\n",
    "from torch.optim import Adam\n",
    "from time import time\n",
    "\n",
    "from tqdm import tqdm\n",
    "\n",
    "device = torch.device(\"cpu\")\n",
    "torch.set_default_dtype(torch.float64)\n",
    "\n",
    "MODELS_DIR  = '/home/cxw/sonos_rirs/models/'"
   ]
  },
  {
   "cell_type": "code",
   "execution_count": 5,
   "id": "51e62a78-bba4-453b-9961-dba6aa7ba962",
   "metadata": {},
   "outputs": [],
   "source": [
    "model_dict = {}\n",
    "model_dict['name'] = \"testrun2_regularization\"\n",
    "model_dict['notes'] = \"same as test run but with regularization\"\n",
    "model_dict['data_path'] = '/home/cxw/sonos_rirs/features/072622_small/feature_df.csv'\n",
    "model_dict['model_path'] = os.path.join(MODELS_DIR, model_dict['name'])"
   ]
  },
  {
   "cell_type": "code",
   "execution_count": 8,
   "id": "1e13f9ea-8e81-447e-b228-3c1fa0b22de0",
   "metadata": {},
   "outputs": [
    {
     "ename": "ModuleNotFoundError",
     "evalue": "No module named 'volume_estimation'",
     "output_type": "error",
     "traceback": [
      "\u001b[0;31m---------------------------------------------------------------------------\u001b[0m",
      "\u001b[0;31mModuleNotFoundError\u001b[0m                       Traceback (most recent call last)",
      "Input \u001b[0;32mIn [8]\u001b[0m, in \u001b[0;36m<cell line: 2>\u001b[0;34m()\u001b[0m\n\u001b[1;32m      1\u001b[0m \u001b[38;5;66;03m# %autoreload 2\u001b[39;00m\n\u001b[0;32m----> 2\u001b[0m \u001b[38;5;28;01mimport\u001b[39;00m \u001b[38;5;21;01mvolume_estimation\u001b[39;00m\u001b[38;5;21;01m.\u001b[39;00m\u001b[38;5;21;01mmodeling\u001b[39;00m \u001b[38;5;28;01mas\u001b[39;00m \u001b[38;5;21;01mmodel_funcs\u001b[39;00m\n\u001b[1;32m      3\u001b[0m model_funcs\u001b[38;5;241m.\u001b[39mtrain_model(model_funcs\u001b[38;5;241m.\u001b[39mBaseline_Model, model_dict,\\\n\u001b[1;32m      4\u001b[0m                         overwrite\u001b[38;5;241m=\u001b[39m\u001b[38;5;28;01mTrue\u001b[39;00m, epochs\u001b[38;5;241m=\u001b[39m\u001b[38;5;241m25\u001b[39m,log\u001b[38;5;241m=\u001b[39m\u001b[38;5;28;01mFalse\u001b[39;00m)\n",
      "\u001b[0;31mModuleNotFoundError\u001b[0m: No module named 'volume_estimation'"
     ]
    }
   ],
   "source": [
    "%autoreload 2\n",
    "import model_funcs\n",
    "model_funcs.train_model(model_funcs.Baseline_Model, model_dict,\\\n",
    "                        overwrite=True, epochs=25,log=False)"
   ]
  },
  {
   "cell_type": "code",
   "execution_count": 7,
   "id": "723b0f82-6ce6-489f-9c5a-10161015d33d",
   "metadata": {},
   "outputs": [
    {
     "ename": "FileNotFoundError",
     "evalue": "[Errno 2] No such file or directory: '/home/cxw/sonos_rirs/features/072622_small/feature_df.csv'",
     "output_type": "error",
     "traceback": [
      "\u001b[0;31m---------------------------------------------------------------------------\u001b[0m",
      "\u001b[0;31mFileNotFoundError\u001b[0m                         Traceback (most recent call last)",
      "Input \u001b[0;32mIn [7]\u001b[0m, in \u001b[0;36m<cell line: 1>\u001b[0;34m()\u001b[0m\n\u001b[0;32m----> 1\u001b[0m feat_df \u001b[38;5;241m=\u001b[39m \u001b[43mpd\u001b[49m\u001b[38;5;241;43m.\u001b[39;49m\u001b[43mread_csv\u001b[49m\u001b[43m(\u001b[49m\u001b[43mmodel_dict\u001b[49m\u001b[43m[\u001b[49m\u001b[38;5;124;43m'\u001b[39;49m\u001b[38;5;124;43mdata_path\u001b[39;49m\u001b[38;5;124;43m'\u001b[39;49m\u001b[43m]\u001b[49m\u001b[43m)\u001b[49m\n\u001b[1;32m      2\u001b[0m model_path \u001b[38;5;241m=\u001b[39m os\u001b[38;5;241m.\u001b[39mpath\u001b[38;5;241m.\u001b[39mjoin(MODELS_DIR, model_dict[\u001b[38;5;124m'\u001b[39m\u001b[38;5;124mname\u001b[39m\u001b[38;5;124m'\u001b[39m])\n\u001b[1;32m      4\u001b[0m dataset \u001b[38;5;241m=\u001b[39m []\n",
      "File \u001b[0;32m~/anaconda3/envs/cxwnotebook/lib/python3.8/site-packages/pandas/util/_decorators.py:311\u001b[0m, in \u001b[0;36mdeprecate_nonkeyword_arguments.<locals>.decorate.<locals>.wrapper\u001b[0;34m(*args, **kwargs)\u001b[0m\n\u001b[1;32m    305\u001b[0m \u001b[38;5;28;01mif\u001b[39;00m \u001b[38;5;28mlen\u001b[39m(args) \u001b[38;5;241m>\u001b[39m num_allow_args:\n\u001b[1;32m    306\u001b[0m     warnings\u001b[38;5;241m.\u001b[39mwarn(\n\u001b[1;32m    307\u001b[0m         msg\u001b[38;5;241m.\u001b[39mformat(arguments\u001b[38;5;241m=\u001b[39marguments),\n\u001b[1;32m    308\u001b[0m         \u001b[38;5;167;01mFutureWarning\u001b[39;00m,\n\u001b[1;32m    309\u001b[0m         stacklevel\u001b[38;5;241m=\u001b[39mstacklevel,\n\u001b[1;32m    310\u001b[0m     )\n\u001b[0;32m--> 311\u001b[0m \u001b[38;5;28;01mreturn\u001b[39;00m \u001b[43mfunc\u001b[49m\u001b[43m(\u001b[49m\u001b[38;5;241;43m*\u001b[39;49m\u001b[43margs\u001b[49m\u001b[43m,\u001b[49m\u001b[43m \u001b[49m\u001b[38;5;241;43m*\u001b[39;49m\u001b[38;5;241;43m*\u001b[39;49m\u001b[43mkwargs\u001b[49m\u001b[43m)\u001b[49m\n",
      "File \u001b[0;32m~/anaconda3/envs/cxwnotebook/lib/python3.8/site-packages/pandas/io/parsers/readers.py:680\u001b[0m, in \u001b[0;36mread_csv\u001b[0;34m(filepath_or_buffer, sep, delimiter, header, names, index_col, usecols, squeeze, prefix, mangle_dupe_cols, dtype, engine, converters, true_values, false_values, skipinitialspace, skiprows, skipfooter, nrows, na_values, keep_default_na, na_filter, verbose, skip_blank_lines, parse_dates, infer_datetime_format, keep_date_col, date_parser, dayfirst, cache_dates, iterator, chunksize, compression, thousands, decimal, lineterminator, quotechar, quoting, doublequote, escapechar, comment, encoding, encoding_errors, dialect, error_bad_lines, warn_bad_lines, on_bad_lines, delim_whitespace, low_memory, memory_map, float_precision, storage_options)\u001b[0m\n\u001b[1;32m    665\u001b[0m kwds_defaults \u001b[38;5;241m=\u001b[39m _refine_defaults_read(\n\u001b[1;32m    666\u001b[0m     dialect,\n\u001b[1;32m    667\u001b[0m     delimiter,\n\u001b[0;32m   (...)\u001b[0m\n\u001b[1;32m    676\u001b[0m     defaults\u001b[38;5;241m=\u001b[39m{\u001b[38;5;124m\"\u001b[39m\u001b[38;5;124mdelimiter\u001b[39m\u001b[38;5;124m\"\u001b[39m: \u001b[38;5;124m\"\u001b[39m\u001b[38;5;124m,\u001b[39m\u001b[38;5;124m\"\u001b[39m},\n\u001b[1;32m    677\u001b[0m )\n\u001b[1;32m    678\u001b[0m kwds\u001b[38;5;241m.\u001b[39mupdate(kwds_defaults)\n\u001b[0;32m--> 680\u001b[0m \u001b[38;5;28;01mreturn\u001b[39;00m \u001b[43m_read\u001b[49m\u001b[43m(\u001b[49m\u001b[43mfilepath_or_buffer\u001b[49m\u001b[43m,\u001b[49m\u001b[43m \u001b[49m\u001b[43mkwds\u001b[49m\u001b[43m)\u001b[49m\n",
      "File \u001b[0;32m~/anaconda3/envs/cxwnotebook/lib/python3.8/site-packages/pandas/io/parsers/readers.py:575\u001b[0m, in \u001b[0;36m_read\u001b[0;34m(filepath_or_buffer, kwds)\u001b[0m\n\u001b[1;32m    572\u001b[0m _validate_names(kwds\u001b[38;5;241m.\u001b[39mget(\u001b[38;5;124m\"\u001b[39m\u001b[38;5;124mnames\u001b[39m\u001b[38;5;124m\"\u001b[39m, \u001b[38;5;28;01mNone\u001b[39;00m))\n\u001b[1;32m    574\u001b[0m \u001b[38;5;66;03m# Create the parser.\u001b[39;00m\n\u001b[0;32m--> 575\u001b[0m parser \u001b[38;5;241m=\u001b[39m \u001b[43mTextFileReader\u001b[49m\u001b[43m(\u001b[49m\u001b[43mfilepath_or_buffer\u001b[49m\u001b[43m,\u001b[49m\u001b[43m \u001b[49m\u001b[38;5;241;43m*\u001b[39;49m\u001b[38;5;241;43m*\u001b[39;49m\u001b[43mkwds\u001b[49m\u001b[43m)\u001b[49m\n\u001b[1;32m    577\u001b[0m \u001b[38;5;28;01mif\u001b[39;00m chunksize \u001b[38;5;129;01mor\u001b[39;00m iterator:\n\u001b[1;32m    578\u001b[0m     \u001b[38;5;28;01mreturn\u001b[39;00m parser\n",
      "File \u001b[0;32m~/anaconda3/envs/cxwnotebook/lib/python3.8/site-packages/pandas/io/parsers/readers.py:934\u001b[0m, in \u001b[0;36mTextFileReader.__init__\u001b[0;34m(self, f, engine, **kwds)\u001b[0m\n\u001b[1;32m    931\u001b[0m     \u001b[38;5;28mself\u001b[39m\u001b[38;5;241m.\u001b[39moptions[\u001b[38;5;124m\"\u001b[39m\u001b[38;5;124mhas_index_names\u001b[39m\u001b[38;5;124m\"\u001b[39m] \u001b[38;5;241m=\u001b[39m kwds[\u001b[38;5;124m\"\u001b[39m\u001b[38;5;124mhas_index_names\u001b[39m\u001b[38;5;124m\"\u001b[39m]\n\u001b[1;32m    933\u001b[0m \u001b[38;5;28mself\u001b[39m\u001b[38;5;241m.\u001b[39mhandles: IOHandles \u001b[38;5;241m|\u001b[39m \u001b[38;5;28;01mNone\u001b[39;00m \u001b[38;5;241m=\u001b[39m \u001b[38;5;28;01mNone\u001b[39;00m\n\u001b[0;32m--> 934\u001b[0m \u001b[38;5;28mself\u001b[39m\u001b[38;5;241m.\u001b[39m_engine \u001b[38;5;241m=\u001b[39m \u001b[38;5;28;43mself\u001b[39;49m\u001b[38;5;241;43m.\u001b[39;49m\u001b[43m_make_engine\u001b[49m\u001b[43m(\u001b[49m\u001b[43mf\u001b[49m\u001b[43m,\u001b[49m\u001b[43m \u001b[49m\u001b[38;5;28;43mself\u001b[39;49m\u001b[38;5;241;43m.\u001b[39;49m\u001b[43mengine\u001b[49m\u001b[43m)\u001b[49m\n",
      "File \u001b[0;32m~/anaconda3/envs/cxwnotebook/lib/python3.8/site-packages/pandas/io/parsers/readers.py:1218\u001b[0m, in \u001b[0;36mTextFileReader._make_engine\u001b[0;34m(self, f, engine)\u001b[0m\n\u001b[1;32m   1214\u001b[0m     mode \u001b[38;5;241m=\u001b[39m \u001b[38;5;124m\"\u001b[39m\u001b[38;5;124mrb\u001b[39m\u001b[38;5;124m\"\u001b[39m\n\u001b[1;32m   1215\u001b[0m \u001b[38;5;66;03m# error: No overload variant of \"get_handle\" matches argument types\u001b[39;00m\n\u001b[1;32m   1216\u001b[0m \u001b[38;5;66;03m# \"Union[str, PathLike[str], ReadCsvBuffer[bytes], ReadCsvBuffer[str]]\"\u001b[39;00m\n\u001b[1;32m   1217\u001b[0m \u001b[38;5;66;03m# , \"str\", \"bool\", \"Any\", \"Any\", \"Any\", \"Any\", \"Any\"\u001b[39;00m\n\u001b[0;32m-> 1218\u001b[0m \u001b[38;5;28mself\u001b[39m\u001b[38;5;241m.\u001b[39mhandles \u001b[38;5;241m=\u001b[39m \u001b[43mget_handle\u001b[49m\u001b[43m(\u001b[49m\u001b[43m  \u001b[49m\u001b[38;5;66;43;03m# type: ignore[call-overload]\u001b[39;49;00m\n\u001b[1;32m   1219\u001b[0m \u001b[43m    \u001b[49m\u001b[43mf\u001b[49m\u001b[43m,\u001b[49m\n\u001b[1;32m   1220\u001b[0m \u001b[43m    \u001b[49m\u001b[43mmode\u001b[49m\u001b[43m,\u001b[49m\n\u001b[1;32m   1221\u001b[0m \u001b[43m    \u001b[49m\u001b[43mencoding\u001b[49m\u001b[38;5;241;43m=\u001b[39;49m\u001b[38;5;28;43mself\u001b[39;49m\u001b[38;5;241;43m.\u001b[39;49m\u001b[43moptions\u001b[49m\u001b[38;5;241;43m.\u001b[39;49m\u001b[43mget\u001b[49m\u001b[43m(\u001b[49m\u001b[38;5;124;43m\"\u001b[39;49m\u001b[38;5;124;43mencoding\u001b[39;49m\u001b[38;5;124;43m\"\u001b[39;49m\u001b[43m,\u001b[49m\u001b[43m \u001b[49m\u001b[38;5;28;43;01mNone\u001b[39;49;00m\u001b[43m)\u001b[49m\u001b[43m,\u001b[49m\n\u001b[1;32m   1222\u001b[0m \u001b[43m    \u001b[49m\u001b[43mcompression\u001b[49m\u001b[38;5;241;43m=\u001b[39;49m\u001b[38;5;28;43mself\u001b[39;49m\u001b[38;5;241;43m.\u001b[39;49m\u001b[43moptions\u001b[49m\u001b[38;5;241;43m.\u001b[39;49m\u001b[43mget\u001b[49m\u001b[43m(\u001b[49m\u001b[38;5;124;43m\"\u001b[39;49m\u001b[38;5;124;43mcompression\u001b[39;49m\u001b[38;5;124;43m\"\u001b[39;49m\u001b[43m,\u001b[49m\u001b[43m \u001b[49m\u001b[38;5;28;43;01mNone\u001b[39;49;00m\u001b[43m)\u001b[49m\u001b[43m,\u001b[49m\n\u001b[1;32m   1223\u001b[0m \u001b[43m    \u001b[49m\u001b[43mmemory_map\u001b[49m\u001b[38;5;241;43m=\u001b[39;49m\u001b[38;5;28;43mself\u001b[39;49m\u001b[38;5;241;43m.\u001b[39;49m\u001b[43moptions\u001b[49m\u001b[38;5;241;43m.\u001b[39;49m\u001b[43mget\u001b[49m\u001b[43m(\u001b[49m\u001b[38;5;124;43m\"\u001b[39;49m\u001b[38;5;124;43mmemory_map\u001b[39;49m\u001b[38;5;124;43m\"\u001b[39;49m\u001b[43m,\u001b[49m\u001b[43m \u001b[49m\u001b[38;5;28;43;01mFalse\u001b[39;49;00m\u001b[43m)\u001b[49m\u001b[43m,\u001b[49m\n\u001b[1;32m   1224\u001b[0m \u001b[43m    \u001b[49m\u001b[43mis_text\u001b[49m\u001b[38;5;241;43m=\u001b[39;49m\u001b[43mis_text\u001b[49m\u001b[43m,\u001b[49m\n\u001b[1;32m   1225\u001b[0m \u001b[43m    \u001b[49m\u001b[43merrors\u001b[49m\u001b[38;5;241;43m=\u001b[39;49m\u001b[38;5;28;43mself\u001b[39;49m\u001b[38;5;241;43m.\u001b[39;49m\u001b[43moptions\u001b[49m\u001b[38;5;241;43m.\u001b[39;49m\u001b[43mget\u001b[49m\u001b[43m(\u001b[49m\u001b[38;5;124;43m\"\u001b[39;49m\u001b[38;5;124;43mencoding_errors\u001b[39;49m\u001b[38;5;124;43m\"\u001b[39;49m\u001b[43m,\u001b[49m\u001b[43m \u001b[49m\u001b[38;5;124;43m\"\u001b[39;49m\u001b[38;5;124;43mstrict\u001b[39;49m\u001b[38;5;124;43m\"\u001b[39;49m\u001b[43m)\u001b[49m\u001b[43m,\u001b[49m\n\u001b[1;32m   1226\u001b[0m \u001b[43m    \u001b[49m\u001b[43mstorage_options\u001b[49m\u001b[38;5;241;43m=\u001b[39;49m\u001b[38;5;28;43mself\u001b[39;49m\u001b[38;5;241;43m.\u001b[39;49m\u001b[43moptions\u001b[49m\u001b[38;5;241;43m.\u001b[39;49m\u001b[43mget\u001b[49m\u001b[43m(\u001b[49m\u001b[38;5;124;43m\"\u001b[39;49m\u001b[38;5;124;43mstorage_options\u001b[39;49m\u001b[38;5;124;43m\"\u001b[39;49m\u001b[43m,\u001b[49m\u001b[43m \u001b[49m\u001b[38;5;28;43;01mNone\u001b[39;49;00m\u001b[43m)\u001b[49m\u001b[43m,\u001b[49m\n\u001b[1;32m   1227\u001b[0m \u001b[43m\u001b[49m\u001b[43m)\u001b[49m\n\u001b[1;32m   1228\u001b[0m \u001b[38;5;28;01massert\u001b[39;00m \u001b[38;5;28mself\u001b[39m\u001b[38;5;241m.\u001b[39mhandles \u001b[38;5;129;01mis\u001b[39;00m \u001b[38;5;129;01mnot\u001b[39;00m \u001b[38;5;28;01mNone\u001b[39;00m\n\u001b[1;32m   1229\u001b[0m f \u001b[38;5;241m=\u001b[39m \u001b[38;5;28mself\u001b[39m\u001b[38;5;241m.\u001b[39mhandles\u001b[38;5;241m.\u001b[39mhandle\n",
      "File \u001b[0;32m~/anaconda3/envs/cxwnotebook/lib/python3.8/site-packages/pandas/io/common.py:786\u001b[0m, in \u001b[0;36mget_handle\u001b[0;34m(path_or_buf, mode, encoding, compression, memory_map, is_text, errors, storage_options)\u001b[0m\n\u001b[1;32m    781\u001b[0m \u001b[38;5;28;01melif\u001b[39;00m \u001b[38;5;28misinstance\u001b[39m(handle, \u001b[38;5;28mstr\u001b[39m):\n\u001b[1;32m    782\u001b[0m     \u001b[38;5;66;03m# Check whether the filename is to be opened in binary mode.\u001b[39;00m\n\u001b[1;32m    783\u001b[0m     \u001b[38;5;66;03m# Binary mode does not support 'encoding' and 'newline'.\u001b[39;00m\n\u001b[1;32m    784\u001b[0m     \u001b[38;5;28;01mif\u001b[39;00m ioargs\u001b[38;5;241m.\u001b[39mencoding \u001b[38;5;129;01mand\u001b[39;00m \u001b[38;5;124m\"\u001b[39m\u001b[38;5;124mb\u001b[39m\u001b[38;5;124m\"\u001b[39m \u001b[38;5;129;01mnot\u001b[39;00m \u001b[38;5;129;01min\u001b[39;00m ioargs\u001b[38;5;241m.\u001b[39mmode:\n\u001b[1;32m    785\u001b[0m         \u001b[38;5;66;03m# Encoding\u001b[39;00m\n\u001b[0;32m--> 786\u001b[0m         handle \u001b[38;5;241m=\u001b[39m \u001b[38;5;28;43mopen\u001b[39;49m\u001b[43m(\u001b[49m\n\u001b[1;32m    787\u001b[0m \u001b[43m            \u001b[49m\u001b[43mhandle\u001b[49m\u001b[43m,\u001b[49m\n\u001b[1;32m    788\u001b[0m \u001b[43m            \u001b[49m\u001b[43mioargs\u001b[49m\u001b[38;5;241;43m.\u001b[39;49m\u001b[43mmode\u001b[49m\u001b[43m,\u001b[49m\n\u001b[1;32m    789\u001b[0m \u001b[43m            \u001b[49m\u001b[43mencoding\u001b[49m\u001b[38;5;241;43m=\u001b[39;49m\u001b[43mioargs\u001b[49m\u001b[38;5;241;43m.\u001b[39;49m\u001b[43mencoding\u001b[49m\u001b[43m,\u001b[49m\n\u001b[1;32m    790\u001b[0m \u001b[43m            \u001b[49m\u001b[43merrors\u001b[49m\u001b[38;5;241;43m=\u001b[39;49m\u001b[43merrors\u001b[49m\u001b[43m,\u001b[49m\n\u001b[1;32m    791\u001b[0m \u001b[43m            \u001b[49m\u001b[43mnewline\u001b[49m\u001b[38;5;241;43m=\u001b[39;49m\u001b[38;5;124;43m\"\u001b[39;49m\u001b[38;5;124;43m\"\u001b[39;49m\u001b[43m,\u001b[49m\n\u001b[1;32m    792\u001b[0m \u001b[43m        \u001b[49m\u001b[43m)\u001b[49m\n\u001b[1;32m    793\u001b[0m     \u001b[38;5;28;01melse\u001b[39;00m:\n\u001b[1;32m    794\u001b[0m         \u001b[38;5;66;03m# Binary mode\u001b[39;00m\n\u001b[1;32m    795\u001b[0m         handle \u001b[38;5;241m=\u001b[39m \u001b[38;5;28mopen\u001b[39m(handle, ioargs\u001b[38;5;241m.\u001b[39mmode)\n",
      "\u001b[0;31mFileNotFoundError\u001b[0m: [Errno 2] No such file or directory: '/home/cxw/sonos_rirs/features/072622_small/feature_df.csv'"
     ]
    }
   ],
   "source": [
    "feat_df = pd.read_csv(model_dict['data_path'])\n",
    "model_path = os.path.join(MODELS_DIR, model_dict['name'])\n",
    "\n",
    "dataset = []\n",
    "\n",
    "    \n",
    "def create_dataloader(feature_df, batch_size=1, log=True):\n",
    "    dataset = []\n",
    "    for row in tqdm(feature_df.iterrows()):\n",
    "        feat_file = row[1]['file_feature']\n",
    "        loaded = np.load(feat_file)\n",
    "\n",
    "        feature = loaded['feat']\n",
    "        feature = feature.reshape((1, feature.shape[0], feature.shape[1]))\n",
    "        feature = np.real(feature)\n",
    "\n",
    "        vol = loaded['vol']\n",
    "        if log:\n",
    "            vol = np.log10(vol)\n",
    "        dataset.append((feature, vol))\n",
    "    \n",
    "    dataloader = torch.utils.data.DataLoader(dataset, batch_size=batch_size)\n",
    "    return dataloader\n",
    "\n",
    "dataloader = create_dataloader(feat_df, log=False)"
   ]
  },
  {
   "cell_type": "code",
   "execution_count": 6,
   "id": "c987b41d-7f00-41cc-bb96-c6fdedc585f0",
   "metadata": {},
   "outputs": [
    {
     "name": "stdout",
     "output_type": "stream",
     "text": [
      "name testrun2_regularization\n",
      "notes same as test run but with regularization\n",
      "data_path /scratch/ci411/sonos_rirs/features/072622_small/feature_df.csv\n",
      "model_path /scratch/ci411/sonos_rirs/models/testrun2_regularization\n"
     ]
    }
   ],
   "source": [
    "savename = './testmodeldict.json'\n",
    "with open(savename, 'w') as f:\n",
    "    json.dump(model_dict, f)\n",
    "    \n",
    "with open(savename) as f:\n",
    "    load_dict = json.load(f)\n",
    "    \n",
    "for key in load_dict.keys():\n",
    "    print(key, load_dict[key])"
   ]
  },
  {
   "cell_type": "code",
   "execution_count": 9,
   "id": "73a66ab9-e949-4408-943c-ade51b8c2562",
   "metadata": {},
   "outputs": [
    {
     "name": "stdout",
     "output_type": "stream",
     "text": [
      "Creating training dataloader\n"
     ]
    },
    {
     "name": "stderr",
     "output_type": "stream",
     "text": [
      "409it [00:00, 440.50it/s]\n"
     ]
    },
    {
     "name": "stdout",
     "output_type": "stream",
     "text": [
      "Creating validation dataloader\n"
     ]
    },
    {
     "name": "stderr",
     "output_type": "stream",
     "text": [
      "46it [00:00, 466.05it/s]\n"
     ]
    },
    {
     "name": "stdout",
     "output_type": "stream",
     "text": [
      "Creating test dataloader\n"
     ]
    },
    {
     "name": "stderr",
     "output_type": "stream",
     "text": [
      "45it [00:00, 404.13it/s]\n"
     ]
    }
   ],
   "source": [
    "train_df = feat_df[feat_df['split']=='train']\n",
    "val_df = feat_df[feat_df['split']=='val']\n",
    "test_df = feat_df[feat_df['split']=='test']\n",
    "\n",
    "print(\"Creating training dataloader\")\n",
    "train_dataloader = create_dataloader(train_df, batch_size=16)\n",
    "\n",
    "print(\"Creating validation dataloader\")\n",
    "val_dataloader = create_dataloader(val_df)\n",
    "\n",
    "print(\"Creating test dataloader\")\n",
    "test_dataloader = create_dataloader(test_df)"
   ]
  },
  {
   "cell_type": "code",
   "execution_count": 10,
   "id": "1f680db8-27a2-4db8-84d3-2ef287da00ae",
   "metadata": {},
   "outputs": [
    {
     "name": "stdout",
     "output_type": "stream",
     "text": [
      "Feature batch shape: torch.Size([16, 1, 24, 1999])\n",
      "Labels batch shape: torch.Size([16])\n"
     ]
    }
   ],
   "source": [
    "features, labels = next(iter(train_dataloader))\n",
    "print(f\"Feature batch shape: {features.size()}\")\n",
    "print(f\"Labels batch shape: {labels.size()}\")"
   ]
  },
  {
   "cell_type": "code",
   "execution_count": 11,
   "id": "c776c9f2-fba2-4f0f-9ea2-93f35ecaeb4f",
   "metadata": {
    "tags": []
   },
   "outputs": [],
   "source": [
    "class Baseline_Model(Module):\n",
    "    def __init__(self, input_shape):\n",
    "        #accepts a tuple with the height/width of the feature\n",
    "        #matrix to set the FC layer dimensions\n",
    "        super(Baseline_Model, self).__init__()\n",
    "        \n",
    "        #block1\n",
    "        Conv1 = Conv2d(1, 30, kernel_size=(1,10), stride=(1,1))\n",
    "        Avgpool1 = AvgPool2d((1,2), stride=(1,2))\n",
    "\n",
    "        #block2\n",
    "        Conv2 = Conv2d(30, 20, kernel_size=(1,10), stride=(1,1))\n",
    "        Avgpool2 = AvgPool2d((1,2), stride=(1,2))\n",
    "\n",
    "        #block3\n",
    "        Conv3 = Conv2d(20, 10, kernel_size=(1,10), stride=(1,1))\n",
    "        Avgpool3 = AvgPool2d((1,2), stride=(1,2))\n",
    "\n",
    "        #block4\n",
    "        Conv4 = Conv2d(10, 10, kernel_size=(1,10), stride=(1,1))\n",
    "        Avgpool4 = AvgPool2d((1,2), stride=(1,2))\n",
    "\n",
    "        #block5\n",
    "        Conv5 = Conv2d(10, 5, kernel_size=(3,9), stride=(1,1))\n",
    "        Avgpool5 = AvgPool2d((1,2), stride=(1,2))\n",
    "\n",
    "        #block6\n",
    "        Conv6 = Conv2d(5, 5, kernel_size=(3,9), stride=(1,1))\n",
    "        Avgpool6 = AvgPool2d((2,2), stride=(2,2))\n",
    "\n",
    "        #dropout\n",
    "        dropout_layer = Dropout(p=0.5)\n",
    "        height5 = input_shape[0] - 2\n",
    "        height6 = (height5 - 2) // 2\n",
    "\n",
    "        time1 = (input_shape[1] - 9) // 2\n",
    "        time2 = (time1 - 9) // 2\n",
    "        time3 = (time2 - 9) // 2\n",
    "        time4 = (time3 - 9) // 2\n",
    "        time5 = (time4 - 7) // 2\n",
    "        time6 = (time5 - 7) // 2\n",
    "\n",
    "        flat_dims = 5 * height6 * time6\n",
    "        fc_layer = Linear(flat_dims, 1)\n",
    "        \n",
    "        self.net = Sequential(\n",
    "                    Conv1, ReLU(), Avgpool1,\n",
    "                    Conv2, ReLU(), Avgpool2,\n",
    "                    Conv3, ReLU(), Avgpool3,\n",
    "                    Conv4, ReLU(), Avgpool4,\n",
    "                    Conv5, ReLU(), Avgpool5,\n",
    "                    Conv6, ReLU(), Avgpool6,\n",
    "                    dropout_layer, Flatten(),\n",
    "                    fc_layer, Flatten()\n",
    "                )\n",
    "    def forward(self, x):\n",
    "        for layer in self.net:\n",
    "            x = layer(x)\n",
    "        return x"
   ]
  },
  {
   "cell_type": "code",
   "execution_count": 12,
   "id": "679cdf44-c94c-4f28-85ef-60136ca87ec8",
   "metadata": {},
   "outputs": [],
   "source": [
    "input_height = features.size()[2]\n",
    "input_width = features.size()[3]\n",
    "\n",
    "model = Baseline_Model((input_height, input_width)).to(device)"
   ]
  },
  {
   "cell_type": "code",
   "execution_count": 18,
   "id": "c15e54c8-8449-4890-95ee-a5749982a306",
   "metadata": {},
   "outputs": [
    {
     "name": "stdout",
     "output_type": "stream",
     "text": [
      "{'mse': 4.7331875006884045, 'bias': -2.123222233206245, 'pearson_cor': 0.1444998490590587, 'mean_mult': 132.80738737171563}\n"
     ]
    }
   ],
   "source": [
    "def MSE(output, target):\n",
    "    loss = torch.mean((output - target)**2)\n",
    "    return loss\n",
    "\n",
    "def Bias(output, target):\n",
    "    loss = torch.mean(output - target)\n",
    "    return loss\n",
    "\n",
    "def CovStep(output, target, output_mean, target_mean):\n",
    "    loss = torch.mean(((output - output_mean) * (target - target_mean)))\n",
    "    return loss\n",
    "\n",
    "def MeanAbsLogStep(output, target, log=True):\n",
    "    #convert out of log\n",
    "    if log:\n",
    "        vol_pred = 10**output\n",
    "        vol_target = 10**target\n",
    "    else:\n",
    "        vol_pred = output\n",
    "        vol_target = target\n",
    "    loss = torch.mean(torch.abs(torch.log(vol_pred/vol_target)))\n",
    "    return loss\n",
    "\n",
    "def compute_eval_metrics(dataloader, model, log=True):\n",
    "    target_sum = 0\n",
    "    pred_sum = 0\n",
    "    n_steps = 0\n",
    "    \n",
    "    for (x,y) in dataloader:        \n",
    "        (x, y) = (x.to(device), y.to(device))\n",
    "        pred = model(x)\n",
    "        target_sum += y.sum()\n",
    "        pred_sum += pred.sum()\n",
    "        n_steps += 1\n",
    "    \n",
    "    target_mean = target_sum/n_steps\n",
    "    pred_mean = pred_sum/n_steps\n",
    "    \n",
    "    mse = 0\n",
    "    mean_error = 0\n",
    "    cov = 0\n",
    "    abs_log_ratio = 0\n",
    "    \n",
    "    var_pred = 0 #technically var * N but gets cancelled out in Pearson calculation\n",
    "    var_target = 0 \n",
    "    \n",
    "    for (x,y) in dataloader:        \n",
    "        (x, y) = (x.to(device), y.to(device))\n",
    "        pred = model(x)\n",
    "        mse += MSE(pred, y)\n",
    "        mean_error += Bias(pred, y)\n",
    "        cov += CovStep(pred, y, pred_mean, target_mean)\n",
    "        abs_log_ratio += MeanAbsLogStep(pred, y, log=log)\n",
    "        \n",
    "        var_pred += MSE(pred, pred_mean)\n",
    "        var_target += MSE(y, target_mean)\n",
    "        \n",
    "        pears = CovStep(pred, y, pred_mean, target_mean)/(torch.sqrt(MSE(pred, pred_mean))*torch.sqrt(MSE(y, target_mean)))\n",
    "    \n",
    "    out_dict = {}\n",
    "    out_dict['mse'] = (mse / n_steps).item()\n",
    "    out_dict['bias'] = (mean_error / n_steps).item()\n",
    "    out_dict['pearson_cor'] = (cov/(torch.sqrt(var_pred) * torch.sqrt(var_target))).item()\n",
    "    out_dict['mean_mult'] = (torch.exp(abs_log_ratio/n_steps)).item()\n",
    "    \n",
    "    return out_dict\n",
    "    \n",
    "eval_dict = compute_eval_metrics(val_dataloader, model)\n",
    "print(eval_dict)"
   ]
  },
  {
   "cell_type": "code",
   "execution_count": 30,
   "id": "b7ca9da7-3de4-4f84-a11e-2e7f123691ac",
   "metadata": {
    "tags": []
   },
   "outputs": [
    {
     "name": "stdout",
     "output_type": "stream",
     "text": [
      "Epoch: 0\tDuration: 24.69s\tTrain loss: 0.9086\tVal loss: 0.2417\tVal bias:0.1182\tVal Pearson correlation: 1.6877e-01\tVal MeanMult: 2.0553\n",
      "Epoch: 1\tDuration: 25.78s\tTrain loss: 0.2907\tVal loss: 0.2280\tVal bias:0.0105\tVal Pearson correlation: 3.6151e-01\tVal MeanMult: 2.1492\n",
      "Epoch: 2\tDuration: 26.24s\tTrain loss: 0.2826\tVal loss: 0.2304\tVal bias:0.0493\tVal Pearson correlation: 4.3434e-01\tVal MeanMult: 2.0868\n",
      "Epoch: 3\tDuration: 27.05s\tTrain loss: 0.2855\tVal loss: 0.2288\tVal bias:-0.0290\tVal Pearson correlation: 8.3376e-02\tVal MeanMult: 2.2419\n",
      "Epoch: 4\tDuration: 27.38s\tTrain loss: 0.2874\tVal loss: 0.2289\tVal bias:-0.0313\tVal Pearson correlation: 3.4533e-02\tVal MeanMult: 2.2483\n",
      "Epoch: 5\tDuration: 28.66s\tTrain loss: 0.2874\tVal loss: 0.2297\tVal bias:0.0423\tVal Pearson correlation: 4.0567e-02\tVal MeanMult: 2.0966\n",
      "Epoch: 6\tDuration: 28.58s\tTrain loss: 0.2887\tVal loss: 0.2280\tVal bias:0.0044\tVal Pearson correlation: 4.4734e-02\tVal MeanMult: 2.1609\n",
      "Epoch: 7\tDuration: 28.54s\tTrain loss: 0.2760\tVal loss: 0.2281\tVal bias:0.0129\tVal Pearson correlation: 4.4734e-02\tVal MeanMult: 2.1445\n",
      "Epoch: 8\tDuration: 28.49s\tTrain loss: 0.2853\tVal loss: 0.2290\tVal bias:-0.0330\tVal Pearson correlation: -5.5811e-16\tVal MeanMult: 2.2528\n",
      "Epoch: 9\tDuration: 28.44s\tTrain loss: 0.2766\tVal loss: 0.2289\tVal bias:0.0306\tVal Pearson correlation: -6.0664e-16\tVal MeanMult: 2.1139\n",
      "Epoch: 10\tDuration: 28.56s\tTrain loss: 0.2813\tVal loss: 0.2280\tVal bias:-0.0099\tVal Pearson correlation: -6.2012e-16\tVal MeanMult: 2.1918\n",
      "Epoch: 11\tDuration: 28.40s\tTrain loss: 0.2784\tVal loss: 0.2280\tVal bias:0.0095\tVal Pearson correlation: 6.0664e-16\tVal MeanMult: 2.1511\n",
      "Epoch: 12\tDuration: 28.35s\tTrain loss: 0.2673\tVal loss: 0.2296\tVal bias:0.0409\tVal Pearson correlation: 6.2012e-16\tVal MeanMult: 2.0986\n",
      "Epoch: 13\tDuration: 28.40s\tTrain loss: 0.2857\tVal loss: 0.2280\tVal bias:-0.0049\tVal Pearson correlation: -1.0483e-01\tVal MeanMult: 2.1806\n",
      "Epoch: 14\tDuration: 28.37s\tTrain loss: 0.2776\tVal loss: 0.2284\tVal bias:0.0226\tVal Pearson correlation: -8.9206e-02\tVal MeanMult: 2.1258\n",
      "Epoch: 15\tDuration: 28.33s\tTrain loss: 0.2777\tVal loss: 0.2283\tVal bias:0.0198\tVal Pearson correlation: -6.2012e-16\tVal MeanMult: 2.1312\n",
      "Epoch: 16\tDuration: 28.32s\tTrain loss: 0.2717\tVal loss: 0.2298\tVal bias:0.0435\tVal Pearson correlation: 6.0664e-16\tVal MeanMult: 2.0948\n",
      "Epoch: 17\tDuration: 28.33s\tTrain loss: 0.2748\tVal loss: 0.2302\tVal bias:0.0480\tVal Pearson correlation: 6.0664e-16\tVal MeanMult: 2.0883\n",
      "Epoch: 18\tDuration: 28.25s\tTrain loss: 0.2806\tVal loss: 0.2287\tVal bias:0.0275\tVal Pearson correlation: 6.0664e-16\tVal MeanMult: 2.1185\n",
      "Epoch: 19\tDuration: 28.25s\tTrain loss: 0.2723\tVal loss: 0.2303\tVal bias:0.0487\tVal Pearson correlation: -6.0664e-16\tVal MeanMult: 2.0875\n",
      "Epoch: 20\tDuration: 29.00s\tTrain loss: 0.2780\tVal loss: 0.2287\tVal bias:0.0275\tVal Pearson correlation: 5.5811e-16\tVal MeanMult: 2.1185\n",
      "Epoch: 21\tDuration: 28.69s\tTrain loss: 0.2681\tVal loss: 0.2290\tVal bias:0.0321\tVal Pearson correlation: nan\tVal MeanMult: 2.1117\n",
      "Epoch: 22\tDuration: 28.49s\tTrain loss: 0.2802\tVal loss: 0.2301\tVal bias:0.0462\tVal Pearson correlation: 6.0664e-16\tVal MeanMult: 2.0909\n",
      "Epoch: 23\tDuration: 28.38s\tTrain loss: 0.2804\tVal loss: 0.2356\tVal bias:0.0874\tVal Pearson correlation: 5.5702e-02\tVal MeanMult: 2.0603\n",
      "Epoch: 24\tDuration: 28.15s\tTrain loss: 0.2808\tVal loss: 0.2308\tVal bias:0.0537\tVal Pearson correlation: 3.7316e-02\tVal MeanMult: 2.0823\n"
     ]
    }
   ],
   "source": [
    "opt = Adam(model.parameters(),lr=0.005, weight_decay=1e-2)\n",
    "\n",
    "hist = {\n",
    "\t\"train_loss\": [],\n",
    "\t\"val_loss\": [],\n",
    "    \"val_bias\": [],\n",
    "    \"val_pearson_cor\": [],\n",
    "    \"val_mean_mult\": []\n",
    "}\n",
    "\n",
    "for ep in range(25):\n",
    "    t_start = time()\n",
    "    model.train()\n",
    "    \n",
    "    train_loss = 0\n",
    "    val_loss = 0\n",
    "    train_steps = 0\n",
    "    val_steps = 0\n",
    "    \n",
    "    for (x, y) in train_dataloader:\n",
    "        (x, y) = (x.to(device), y.to(device))\n",
    "        pred = model(x)\n",
    "        loss = MSE(pred, y.reshape((y.shape[0], 1)))\n",
    "        \n",
    "        opt.zero_grad()\n",
    "        loss.backward()\n",
    "        opt.step()\n",
    "        \n",
    "        train_loss += loss\n",
    "        train_steps += 1\n",
    "    \n",
    "    with torch.no_grad():\n",
    "        model.eval()\n",
    "        \n",
    "        val_metrics = compute_eval_metrics(val_dataloader, model)\n",
    "    \n",
    "    \n",
    "    hist['train_loss'].append(train_loss/train_steps)\n",
    "    hist['val_loss'].append(val_metrics['mse'])\n",
    "    hist['val_bias'].append(val_metrics['bias'])\n",
    "    hist['val_pearson_cor'].append(val_metrics['pearson_cor'])\n",
    "    hist['val_mean_mult'].append(val_metrics['mean_mult'])\n",
    "    \n",
    "    t_end = time()\n",
    "    \n",
    "    t_elapsed = t_end - t_start\n",
    "    print(\"Epoch: {}\\tDuration: {:.2f}s\\tTrain loss: {:.4f}\\tVal loss: {:.4f}\\tVal bias:{:.4f}\\tVal Pearson correlation: {:.4e}\\tVal MeanMult: {:.4f}\"\\\n",
    "          .format(ep, t_elapsed, train_loss/train_steps, val_metrics['mse'],\\\n",
    "                  val_metrics['bias'], val_metrics['pearson_cor'],val_metrics['mean_mult']))\n",
    "    \n",
    "    \n",
    "    "
   ]
  },
  {
   "cell_type": "code",
   "execution_count": 35,
   "id": "3dbb35a4-183c-43d8-ab9a-00adaba3bb4b",
   "metadata": {},
   "outputs": [
    {
     "name": "stdout",
     "output_type": "stream",
     "text": [
      "{'mse': 0.04718757373347041, 'bias': 0.21722700967759592, 'pearson_cor': -4.86056656393074e-08, 'mean_mult': 1.6490241262038319}\n"
     ]
    }
   ],
   "source": [
    "eval_test = compute_eval_metrics(test_dataloader, model)\n",
    "print(eval_test)"
   ]
  },
  {
   "cell_type": "code",
   "execution_count": 53,
   "id": "a3fd7026-863e-496b-bf18-0c22f39c92c0",
   "metadata": {},
   "outputs": [
    {
     "data": {
      "text/plain": [
       "array([90, 91, 92, 93, 94, 95, 96, 97, 98, 99])"
      ]
     },
     "execution_count": 53,
     "metadata": {},
     "output_type": "execute_result"
    }
   ],
   "source": [
    "hist.keys()\n",
    "np.std(hist['val_loss'][15:])\n",
    "np.arange(100)[-10:]"
   ]
  },
  {
   "cell_type": "code",
   "execution_count": 15,
   "id": "77d55580-42a7-412a-9fbb-bcc65d189ac1",
   "metadata": {},
   "outputs": [
    {
     "name": "stderr",
     "output_type": "stream",
     "text": [
      "20it [00:00, 423.20it/s]\n"
     ]
    },
    {
     "name": "stdout",
     "output_type": "stream",
     "text": [
      "{'mse': 3.5533725188865946, 'bias': -1.7790347908965678, 'pearson_cor': -0.16924566496616403, 'mean_mult': 60.12218988391525}\n"
     ]
    }
   ],
   "source": []
  },
  {
   "cell_type": "code",
   "execution_count": 37,
   "id": "91f67288-f36f-431b-8482-e6d4a76d29aa",
   "metadata": {},
   "outputs": [
    {
     "name": "stdout",
     "output_type": "stream",
     "text": [
      "2.1847749759571498\n",
      "2.1847749743258196\n",
      "2.1847749763467244\n",
      "2.1847749806196854\n",
      "2.1847749823384\n",
      "2.184774982408507\n",
      "2.184774982342067\n",
      "2.1847749887373906\n",
      "2.1847749870368007\n",
      "2.1847749831466228\n",
      "2.1847749808330774\n",
      "2.1847749857464227\n",
      "2.1847749892471793\n",
      "2.184774983813266\n",
      "2.1847749695552214\n",
      "2.1847749768380846\n",
      "2.1847749785676336\n",
      "2.184774979268998\n",
      "2.1847749923730744\n",
      "2.1847749881828107\n"
     ]
    }
   ],
   "source": [
    "random_df = feat_df.sample(20)\n",
    "\n",
    "random_dataloader = create_dataloader(random_df)\n",
    "eval_random = compute_eval_metrics(random_dataloader, model)\n",
    "print(eval_random)\n",
    "\n",
    "for (x, y) in random_dataloader:\n",
    "        (x, y) = (x.to(device), y.to(device))\n",
    "        pred = model(x)\n",
    "        print(pred.item())"
   ]
  },
  {
   "cell_type": "code",
   "execution_count": 38,
   "id": "8663c8c5-5077-4c39-99dd-e3ab55dba281",
   "metadata": {
    "tags": []
   },
   "outputs": [],
   "source": [
    "class print_Model(Module):\n",
    "    def __init__(self, seq):\n",
    "        super(print_Model, self).__init__()\n",
    "        self.net = seq\n",
    "\n",
    "    def forward(self, x):\n",
    "        print(\"Start\\n{}\".format(x.size()))\n",
    "        for layer in self.net:\n",
    "            x = layer(x)\n",
    "            print(layer)\n",
    "            print(x.size())\n",
    "        return x"
   ]
  },
  {
   "cell_type": "code",
   "execution_count": 55,
   "id": "52acb0b5-cf2a-4487-9527-7669b605568c",
   "metadata": {},
   "outputs": [
    {
     "name": "stdout",
     "output_type": "stream",
     "text": [
      "Using device: cpu\n",
      "\n"
     ]
    }
   ],
   "source": [
    "%load_ext autoreload\n"
   ]
  },
  {
   "cell_type": "code",
   "execution_count": 21,
   "id": "5e9b10cc-e81a-4238-b988-3600a5b6554c",
   "metadata": {},
   "outputs": [
    {
     "name": "stderr",
     "output_type": "stream",
     "text": [
      "20it [00:00, 33.43it/s]\n"
     ]
    },
    {
     "name": "stdout",
     "output_type": "stream",
     "text": [
      "mse 45796.25260507299\n",
      "bias 208.8553279556989\n",
      "pearson_cor 0.11266241132024864\n",
      "mean_mult 104.27601688167738\n",
      "310.9582128449743\n",
      "352.9361237221425\n",
      "66.39532032311823\n",
      "273.46949087948565\n",
      "203.54653305300818\n",
      "9.16723572200408\n",
      "-2.562087825488065\n",
      "22.972772472801477\n",
      "165.31293551814673\n",
      "150.62623389263476\n",
      "318.6727226084113\n",
      "98.86285874814143\n",
      "-29.583824657848435\n",
      "348.4388819273985\n",
      "236.10297180957184\n",
      "129.09428485168146\n",
      "139.32949064073074\n",
      "259.44537729097897\n",
      "149.21884106490478\n",
      "205.97660735221262\n"
     ]
    }
   ],
   "source": [
    "random_df = feat_df.sample(20)\n",
    "\n",
    "random_dataloader = create_dataloader(random_df, log=False)\n",
    "\n",
    "\n",
    "load_model = Baseline_Model((input_height, input_width)).to(device)\n",
    "model_name = 'testrun4_nonlog'\n",
    "load_model.load_state_dict(torch.load(os.path.join(MODELS_DIR,model_name,'model_state.pt'), map_location=torch.device('cpu')))\n",
    "\n",
    "load_metrics = compute_eval_metrics(test_dataloader, load_model, log=False)\n",
    "for key in load_metrics.keys():\n",
    "    print(key, load_metrics[key])\n",
    "\n",
    "for (x, y) in random_dataloader:\n",
    "    (x, y) = (x.to(device), y.to(device))\n",
    "    pred = load_model(x)\n",
    "    print(pred.item())\n"
   ]
  },
  {
   "cell_type": "code",
   "execution_count": 83,
   "id": "469273db-2880-4c15-a8c5-834d1a0e9737",
   "metadata": {},
   "outputs": [
    {
     "name": "stdout",
     "output_type": "stream",
     "text": [
      "Using device: cpu\n",
      "\n"
     ]
    },
    {
     "data": {
      "text/plain": [
       "<AxesSubplot:>"
      ]
     },
     "execution_count": 83,
     "metadata": {},
     "output_type": "execute_result"
    },
    {
     "data": {
      "image/png": "[encoded data removed]",
      "text/plain": [
       "<Figure size 432x288 with 1 Axes>"
      ]
     },
     "metadata": {
      "needs_background": "light"
     },
     "output_type": "display_data"
    }
   ],
   "source": [
    "feat_df['vol'].hist()"
   ]
  },
  {
   "cell_type": "code",
   "execution_count": null,
   "id": "37f849c6-7e63-4eba-9105-9ec1c4a214b2",
   "metadata": {},
   "outputs": [],
   "source": []
  }
 ],
 "metadata": {
  "kernelspec": {
   "display_name": "cxwnotebook",
   "language": "python",
   "name": "cxwnotebook"
  },
  "language_info": {
   "codemirror_mode": {
    "name": "ipython",
    "version": 3
   },
   "file_extension": ".py",
   "mimetype": "text/x-python",
   "name": "python",
   "nbconvert_exporter": "python",
   "pygments_lexer": "ipython3",
   "version": "3.8.13"
  }
 },
 "nbformat": 4,
 "nbformat_minor": 5
}
